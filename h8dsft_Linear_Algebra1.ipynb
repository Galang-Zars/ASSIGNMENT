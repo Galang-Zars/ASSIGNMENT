{
  "cells": [
    {
      "cell_type": "code",
      "execution_count": 2,
      "metadata": {
        "id": "57yVClRnvxrm"
      },
      "outputs": [],
      "source": [
        "import numpy as np"
      ]
    },
    {
      "cell_type": "code",
      "execution_count": 3,
      "metadata": {
        "id": "jeRwc3ohv0ge",
        "colab": {
          "base_uri": "https://localhost:8080/"
        },
        "outputId": "78bdf479-5ec8-43d3-86a2-2c573b398917"
      },
      "outputs": [
        {
          "output_type": "execute_result",
          "data": {
            "text/plain": [
              "array([[[17]],\n",
              "\n",
              "       [[22]],\n",
              "\n",
              "       [[19]]])"
            ]
          },
          "metadata": {},
          "execution_count": 3
        }
      ],
      "source": [
        "A = np.array([[[17]],[[22]],[[19]]])\n",
        "A"
      ]
    },
    {
      "cell_type": "code",
      "execution_count": 4,
      "metadata": {
        "id": "RBKlAJehoAxQ",
        "colab": {
          "base_uri": "https://localhost:8080/"
        },
        "outputId": "1be233d5-18ea-443f-d623-ddd1297f2a0a"
      },
      "outputs": [
        {
          "output_type": "execute_result",
          "data": {
            "text/plain": [
              "array([[[10]],\n",
              "\n",
              "       [[20]],\n",
              "\n",
              "       [[11]]])"
            ]
          },
          "metadata": {},
          "execution_count": 4
        }
      ],
      "source": [
        "B = np.array([[[10]],[[20]],[[11]]])\n",
        "B"
      ]
    },
    {
      "cell_type": "code",
      "execution_count": 5,
      "metadata": {
        "colab": {
          "base_uri": "https://localhost:8080/"
        },
        "id": "R535zfHCpek-",
        "outputId": "85f20824-ed3b-4d14-b044-f6ff7928867f"
      },
      "outputs": [
        {
          "output_type": "execute_result",
          "data": {
            "text/plain": [
              "array([[[ 5]],\n",
              "\n",
              "       [[12]],\n",
              "\n",
              "       [[ 9]]])"
            ]
          },
          "metadata": {},
          "execution_count": 5
        }
      ],
      "source": [
        "C = np.array([[[5]],[[12]],[[9]]])\n",
        "C"
      ]
    },
    {
      "cell_type": "code",
      "execution_count": 6,
      "metadata": {
        "colab": {
          "base_uri": "https://localhost:8080/"
        },
        "id": "O7Uw05EdqwE2",
        "outputId": "f07e78f9-2092-4e81-a872-afe7857ec8b4"
      },
      "outputs": [
        {
          "output_type": "execute_result",
          "data": {
            "text/plain": [
              "array([[[27]],\n",
              "\n",
              "       [[42]],\n",
              "\n",
              "       [[30]]])"
            ]
          },
          "metadata": {},
          "execution_count": 6
        }
      ],
      "source": [
        "D = A+B\n",
        "D"
      ]
    },
    {
      "cell_type": "code",
      "execution_count": 7,
      "metadata": {
        "colab": {
          "base_uri": "https://localhost:8080/"
        },
        "id": "-D-DQ5KXrL_R",
        "outputId": "0906f6cb-8551-411c-9c76-c4d453be5097"
      },
      "outputs": [
        {
          "output_type": "execute_result",
          "data": {
            "text/plain": [
              "array([[[5]],\n",
              "\n",
              "       [[8]],\n",
              "\n",
              "       [[2]]])"
            ]
          },
          "metadata": {},
          "execution_count": 7
        }
      ],
      "source": [
        "E = B-C\n",
        "E"
      ]
    },
    {
      "cell_type": "code",
      "execution_count": 8,
      "metadata": {
        "colab": {
          "base_uri": "https://localhost:8080/"
        },
        "id": "dr4Sg1q6szKa",
        "outputId": "3f70cba5-4891-4572-b688-62f2cbe229cd"
      },
      "outputs": [
        {
          "output_type": "execute_result",
          "data": {
            "text/plain": [
              "array([[[[ 85],\n",
              "         [204],\n",
              "         [153]]],\n",
              "\n",
              "\n",
              "       [[[110],\n",
              "         [264],\n",
              "         [198]]],\n",
              "\n",
              "\n",
              "       [[[ 95],\n",
              "         [228],\n",
              "         [171]]]])"
            ]
          },
          "metadata": {},
          "execution_count": 8
        }
      ],
      "source": [
        "F = np.dot(A,C)\n",
        "F"
      ]
    },
    {
      "cell_type": "code",
      "execution_count": 9,
      "metadata": {
        "colab": {
          "base_uri": "https://localhost:8080/"
        },
        "id": "6DvKPVAJtEKE",
        "outputId": "e14a9476-11d9-49ea-9aae-6a4cf7c43c99"
      },
      "outputs": [
        {
          "output_type": "execute_result",
          "data": {
            "text/plain": [
              "array([[[170]],\n",
              "\n",
              "       [[440]],\n",
              "\n",
              "       [[209]]])"
            ]
          },
          "metadata": {},
          "execution_count": 9
        }
      ],
      "source": [
        "G = A*B\n",
        "G"
      ]
    },
    {
      "cell_type": "code",
      "execution_count": 10,
      "metadata": {
        "id": "sn8W4Y_CvExM",
        "colab": {
          "base_uri": "https://localhost:8080/"
        },
        "outputId": "514841fe-3543-424d-9d10-383601cf4d59"
      },
      "outputs": [
        {
          "output_type": "execute_result",
          "data": {
            "text/plain": [
              "array([[[0.20258001]],\n",
              "\n",
              "       [[0.52432474]],\n",
              "\n",
              "       [[0.24905425]]])"
            ]
          },
          "metadata": {},
          "execution_count": 10
        }
      ],
      "source": [
        "cos_theta = A @ B / (np.linalg.norm(A) * np.linalg.norm(B))\n",
        "cos_theta"
      ]
    },
    {
      "cell_type": "code",
      "source": [
        "u = np.array([[2],[5]])\n",
        "u"
      ],
      "metadata": {
        "colab": {
          "base_uri": "https://localhost:8080/"
        },
        "id": "CPldUzKTjPVL",
        "outputId": "26a8b8d2-3790-40c7-cfc2-fd723b6e4d94"
      },
      "execution_count": 11,
      "outputs": [
        {
          "output_type": "execute_result",
          "data": {
            "text/plain": [
              "array([[2],\n",
              "       [5]])"
            ]
          },
          "metadata": {},
          "execution_count": 11
        }
      ]
    },
    {
      "cell_type": "code",
      "source": [
        "v = np.array([[3],[1]])\n",
        "v"
      ],
      "metadata": {
        "colab": {
          "base_uri": "https://localhost:8080/"
        },
        "id": "voTrvYgikfqs",
        "outputId": "5697f5b6-a5c0-456d-968b-57414f036c65"
      },
      "execution_count": 12,
      "outputs": [
        {
          "output_type": "execute_result",
          "data": {
            "text/plain": [
              "array([[3],\n",
              "       [1]])"
            ]
          },
          "metadata": {},
          "execution_count": 12
        }
      ]
    },
    {
      "cell_type": "code",
      "source": [
        "import numpy as np\n",
        "import matplotlib.pyplot as plt\n",
        "plt.axis([0,5,0,3])"
      ],
      "metadata": {
        "id": "OJg24CIJlh4t",
        "colab": {
          "base_uri": "https://localhost:8080/",
          "height": 286
        },
        "outputId": "967d2d01-9936-410b-9f3d-b9cf6b34f9a8"
      },
      "execution_count": 13,
      "outputs": [
        {
          "output_type": "execute_result",
          "data": {
            "text/plain": [
              "(0.0, 5.0, 0.0, 3.0)"
            ]
          },
          "metadata": {},
          "execution_count": 13
        },
        {
          "output_type": "display_data",
          "data": {
            "text/plain": [
              "<Figure size 432x288 with 1 Axes>"
            ],
            "image/png": "[encoded data removed]"
          },
          "metadata": {
            "needs_background": "light"
          }
        }
      ]
    },
    {
      "cell_type": "code",
      "source": [
        "plt.plot([2,3,5,1])\n",
        "plt.show"
      ],
      "metadata": {
        "id": "elNgIwRYk-vC",
        "colab": {
          "base_uri": "https://localhost:8080/",
          "height": 282
        },
        "outputId": "01109395-d314-44ed-f047-f08305eb6147"
      },
      "execution_count": 14,
      "outputs": [
        {
          "output_type": "execute_result",
          "data": {
            "text/plain": [
              "<function matplotlib.pyplot.show(*args, **kw)>"
            ]
          },
          "metadata": {},
          "execution_count": 14
        },
        {
          "output_type": "display_data",
          "data": {
            "text/plain": [
              "<Figure size 432x288 with 1 Axes>"
            ],
            "image/png": "[encoded data removed]"
          },
          "metadata": {
            "needs_background": "light"
          }
        }
      ]
    }
  ],
  "metadata": {
    "colab": {
      "provenance": []
    },
    "kernelspec": {
      "display_name": "Python 3",
      "name": "python3"
    },
    "language_info": {
      "name": "python"
    }
  },
  "nbformat": 4,
  "nbformat_minor": 0
}