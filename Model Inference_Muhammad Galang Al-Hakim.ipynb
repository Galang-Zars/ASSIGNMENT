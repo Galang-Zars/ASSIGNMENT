{
  "cells": [
    {
      "cell_type": "code",
      "source": [
        "!pip install feature_engine"
      ],
      "outputs": [
        {
          "output_type": "stream",
          "name": "stdout",
          "text": [
            "Requirement already satisfied: feature_engine in /opt/conda/lib/python3.9/site-packages (1.5.2)\r\n",
            "Requirement already satisfied: numpy>=1.18.2 in /opt/conda/lib/python3.9/site-packages (from feature_engine) (1.23.5)\r\n",
            "Requirement already satisfied: scikit-learn>=1.0.0 in /opt/conda/lib/python3.9/site-packages (from feature_engine) (1.1.2)\r\n",
            "Requirement already satisfied: scipy>=1.4.1 in /opt/conda/lib/python3.9/site-packages (from feature_engine) (1.9.1)\r\n",
            "Requirement already satisfied: pandas>=1.0.3 in /opt/conda/lib/python3.9/site-packages (from feature_engine) (1.5.3)\r\n",
            "Requirement already satisfied: statsmodels>=0.11.1 in /opt/conda/lib/python3.9/site-packages (from feature_engine) (0.13.2)\r\n",
            "Requirement already satisfied: pytz>=2020.1 in /opt/conda/lib/python3.9/site-packages (from pandas>=1.0.3->feature_engine) (2022.7.1)\r\n",
            "Requirement already satisfied: python-dateutil>=2.8.1 in /opt/conda/lib/python3.9/site-packages (from pandas>=1.0.3->feature_engine) (2.8.2)\r\n"
          ]
        },
        {
          "output_type": "stream",
          "name": "stdout",
          "text": [
            "Requirement already satisfied: joblib>=1.0.0 in /opt/conda/lib/python3.9/site-packages (from scikit-learn>=1.0.0->feature_engine) (1.2.0)\r\n",
            "Requirement already satisfied: threadpoolctl>=2.0.0 in /opt/conda/lib/python3.9/site-packages (from scikit-learn>=1.0.0->feature_engine) (3.1.0)\r\n",
            "Requirement already satisfied: patsy>=0.5.2 in /opt/conda/lib/python3.9/site-packages (from statsmodels>=0.11.1->feature_engine) (0.5.2)\r\n",
            "Requirement already satisfied: packaging>=21.3 in /opt/conda/lib/python3.9/site-packages (from statsmodels>=0.11.1->feature_engine) (23.0)\r\n",
            "Requirement already satisfied: six in /opt/conda/lib/python3.9/site-packages (from patsy>=0.5.2->statsmodels>=0.11.1->feature_engine) (1.16.0)\r\n"
          ]
        }
      ],
      "execution_count": null,
      "metadata": {
        "jupyter": {
          "source_hidden": false,
          "outputs_hidden": false
        },
        "noteable": {
          "cell_type": "code"
        },
        "ExecuteTime": {
          "start_time": "2023-03-10T23:40:31.796402+00:00",
          "end_time": "2023-03-10T23:40:35.897411+00:00"
        }
      },
      "id": "665e7c2f-5a61-4d83-b629-375ec4d7f479"
    },
    {
      "cell_type": "code",
      "source": [
        "import numpy as np\n",
        "import pandas as pd\n",
        "import joblib\n",
        "import warnings\n",
        "warnings.filterwarnings('ignore')"
      ],
      "outputs": [],
      "execution_count": null,
      "metadata": {
        "ExecuteTime": {
          "start_time": "2023-03-10T23:40:35.903582+00:00",
          "end_time": "2023-03-10T23:40:36.088473+00:00"
        },
        "noteable": {}
      },
      "id": "1da6dacc"
    },
    {
      "cell_type": "code",
      "source": [
        "with open('LR.pkl', 'rb') as file_1:\n",
        "  model_linreg = joblib.load(file_1)\n",
        "\n",
        "with open('MinMax.pkl', 'rb') as file:\n",
        "    minmax = joblib.load(file)\n",
        "\n",
        "with open('encoder.pkl', 'rb') as file_3:\n",
        "  ohe = joblib.load(file_3)\n",
        "\n",
        "with open('SVM.pkl', 'rb') as file_4:\n",
        "  model_svm = joblib.load(file_4)\n"
      ],
      "outputs": [],
      "execution_count": null,
      "metadata": {
        "jupyter": {
          "outputs_hidden": false,
          "source_hidden": false
        },
        "noteable": {
          "cell_type": "code"
        },
        "ExecuteTime": {
          "start_time": "2023-03-10T23:48:00.928209+00:00",
          "end_time": "2023-03-10T23:48:01.090969+00:00"
        }
      },
      "id": "734c043c-64ca-4a50-9b71-eb0f000ce02f"
    },
    {
      "cell_type": "code",
      "source": [
        "df = pd.read_csv('Dataset/h8dsft_P1G2_Muhammad Galang Al-Hakim.csv')"
      ],
      "outputs": [],
      "execution_count": null,
      "metadata": {
        "jupyter": {
          "source_hidden": false,
          "outputs_hidden": false
        },
        "noteable": {
          "cell_type": "code"
        },
        "ExecuteTime": {
          "start_time": "2023-03-10T23:40:36.287730+00:00",
          "end_time": "2023-03-10T23:40:36.485864+00:00"
        }
      },
      "id": "0012a800-f798-42ed-9445-f1cbe5541b35"
    },
    {
      "cell_type": "code",
      "source": [
        "df_infer= pd.DataFrame({\n",
        "    'age':[40, 22],\n",
        "    'hours_per_week':[99, 90],\n",
        "    'workclass':['freelance', 'self-employee'],\n",
        "    'education':['SD', 'SMP'],\n",
        "    'marital_status':['married', 'divorced'],\n",
        "    'occupation':['police', 'scavenger'],\n",
        "    'relationship':['husbando', 'waifu' ],\n",
        "    'race':['black', 'white'],\n",
        "    'sex':['M', 'F']\n",
        "    })"
      ],
      "outputs": [],
      "execution_count": null,
      "metadata": {
        "jupyter": {
          "source_hidden": false,
          "outputs_hidden": false
        },
        "noteable": {
          "cell_type": "code"
        },
        "ExecuteTime": {
          "start_time": "2023-03-10T23:40:36.493723+00:00",
          "end_time": "2023-03-10T23:40:36.675758+00:00"
        }
      },
      "id": "94c3412f-da7d-436f-8b60-4ef7d081a85a"
    },
    {
      "cell_type": "code",
      "source": [
        "df_infer_final=df_infer.copy()"
      ],
      "outputs": [],
      "execution_count": null,
      "metadata": {
        "jupyter": {
          "source_hidden": false,
          "outputs_hidden": false
        },
        "noteable": {
          "cell_type": "code"
        },
        "ExecuteTime": {
          "start_time": "2023-03-10T23:40:36.681867+00:00",
          "end_time": "2023-03-10T23:40:36.863711+00:00"
        }
      },
      "id": "9cf835e3-eb75-4441-9b5d-94781f7fadf1"
    },
    {
      "cell_type": "code",
      "source": [
        "cat_col = [\"workclass\", \"education\",\"marital_status\",\"occupation\",\"relationship\",\"race\",\"sex\"]"
      ],
      "outputs": [],
      "execution_count": null,
      "metadata": {
        "jupyter": {
          "source_hidden": false,
          "outputs_hidden": false
        },
        "noteable": {
          "cell_type": "code"
        },
        "ExecuteTime": {
          "start_time": "2023-03-10T23:40:36.874197+00:00",
          "end_time": "2023-03-10T23:40:37.051824+00:00"
        }
      },
      "id": "76d20e9f-e850-49d2-a56a-2b9188212bea"
    },
    {
      "cell_type": "code",
      "source": [
        "num_col =[\"age\",\"hours_per_week\"]"
      ],
      "outputs": [],
      "execution_count": null,
      "metadata": {
        "jupyter": {
          "source_hidden": false,
          "outputs_hidden": false
        },
        "noteable": {
          "cell_type": "code"
        },
        "ExecuteTime": {
          "start_time": "2023-03-10T23:40:37.061210+00:00",
          "end_time": "2023-03-10T23:40:37.238994+00:00"
        }
      },
      "id": "cf65c7ee-ec25-487a-8c58-bb1dffe46b57"
    },
    {
      "cell_type": "code",
      "source": [
        "df_infer_final[cat_col]"
      ],
      "outputs": [
        {
          "output_type": "display_data",
          "data": {
            "application/vnd.dataresource+json": {
              "schema": {
                "fields": [
                  {
                    "name": "index",
                    "type": "integer"
                  },
                  {
                    "name": "workclass",
                    "type": "string"
                  },
                  {
                    "name": "education",
                    "type": "string"
                  },
                  {
                    "name": "marital_status",
                    "type": "string"
                  },
                  {
                    "name": "occupation",
                    "type": "string"
                  },
                  {
                    "name": "relationship",
                    "type": "string"
                  },
                  {
                    "name": "race",
                    "type": "string"
                  },
                  {
                    "name": "sex",
                    "type": "string"
                  }
                ],
                "primaryKey": [
                  "index"
                ],
                "pandas_version": "1.4.0"
              },
              "data": [
                {
                  "index": 0,
                  "workclass": "freelance",
                  "education": "SD",
                  "marital_status": "married",
                  "occupation": "police",
                  "relationship": "husbando",
                  "race": "black",
                  "sex": "M"
                },
                {
                  "index": 1,
                  "workclass": "self-employee",
                  "education": "SMP",
                  "marital_status": "divorced",
                  "occupation": "scavenger",
                  "relationship": "waifu",
                  "race": "white",
                  "sex": "F"
                }
              ],
              "datalink": {
                "display_id": "f172b285-3aee-4757-96f9-e7f3aa215b1a"
              }
            }
          },
          "metadata": {
            "application/vnd.dataresource+json": {
              "datalink": {
                "dataframe_info": {
                  "default_index_used": true,
                  "orig_size_bytes": 240,
                  "orig_num_rows": 2,
                  "orig_num_cols": 7,
                  "truncated_string_columns": [],
                  "truncated_size_bytes": 240,
                  "truncated_num_rows": 2,
                  "truncated_num_cols": 7
                },
                "dx_settings": {
                  "NUM_PAST_SAMPLES_TRACKED": 3,
                  "ENABLE_DATALINK": true,
                  "DISPLAY_MODE": "simple",
                  "GENERATE_DEX_METADATA": false,
                  "STRINGIFY_INDEX_VALUES": false,
                  "ALLOW_NOTEABLE_ATTRS": true,
                  "DISPLAY_MAX_COLUMNS": 100,
                  "HTML_TABLE_SCHEMA": false,
                  "SAMPLING_FACTOR": 0.1,
                  "LOG_LEVEL": 30,
                  "ENABLE_ASSIGNMENT": false,
                  "FLATTEN_INDEX_VALUES": false,
                  "DEV_MODE": false,
                  "COLUMN_SAMPLING_METHOD": "outer",
                  "FLATTEN_COLUMN_VALUES": true,
                  "DISPLAY_MAX_ROWS": 50000,
                  "ROW_SAMPLING_METHOD": "random",
                  "RANDOM_STATE": 12648430,
                  "DB_LOCATION": ":memory:",
                  "STRINGIFY_COLUMN_VALUES": true,
                  "SAMPLING_METHOD": "random",
                  "MAX_STRING_LENGTH": 50,
                  "MAX_RENDER_SIZE_BYTES": 104857600,
                  "RESET_INDEX_VALUES": false
                },
                "display_id": "f172b285-3aee-4757-96f9-e7f3aa215b1a",
                "applied_filters": [],
                "sample_history": [],
                "sampling_time": "2023-03-10T23:40:37.314433",
                "variable_name": "cat_col1"
              },
              "display_id": "f172b285-3aee-4757-96f9-e7f3aa215b1a"
            }
          }
        }
      ],
      "execution_count": null,
      "metadata": {
        "jupyter": {
          "source_hidden": false,
          "outputs_hidden": false
        },
        "noteable": {
          "cell_type": "code"
        },
        "ExecuteTime": {
          "start_time": "2023-03-10T23:40:37.246478+00:00",
          "end_time": "2023-03-10T23:40:37.471414+00:00"
        },
        "datalink": {
          "89de3da0-1d44-4b74-9c8e-82f63ed213ad": {
            "dataframe_info": {
              "default_index_used": true,
              "orig_size_bytes": 240,
              "orig_num_rows": 2,
              "orig_num_cols": 7,
              "truncated_string_columns": [],
              "truncated_size_bytes": 240,
              "truncated_num_rows": 2,
              "truncated_num_cols": 7
            },
            "dx_settings": {
              "LOG_LEVEL": 30,
              "DEV_MODE": false,
              "DISPLAY_MAX_ROWS": 50000,
              "DISPLAY_MAX_COLUMNS": 100,
              "HTML_TABLE_SCHEMA": false,
              "MAX_RENDER_SIZE_BYTES": 104857600,
              "MAX_STRING_LENGTH": 50,
              "SAMPLING_FACTOR": 0.1,
              "DISPLAY_MODE": "simple",
              "SAMPLING_METHOD": "random",
              "COLUMN_SAMPLING_METHOD": "outer",
              "ROW_SAMPLING_METHOD": "random",
              "RANDOM_STATE": 12648430,
              "RESET_INDEX_VALUES": false,
              "FLATTEN_INDEX_VALUES": false,
              "FLATTEN_COLUMN_VALUES": true,
              "STRINGIFY_INDEX_VALUES": false,
              "STRINGIFY_COLUMN_VALUES": true,
              "ENABLE_DATALINK": true,
              "ENABLE_ASSIGNMENT": false,
              "NUM_PAST_SAMPLES_TRACKED": 3,
              "DB_LOCATION": ":memory:",
              "GENERATE_DEX_METADATA": false,
              "ALLOW_NOTEABLE_ATTRS": true
            },
            "display_id": "89de3da0-1d44-4b74-9c8e-82f63ed213ad",
            "applied_filters": [],
            "sample_history": [],
            "sampling_time": "2023-03-10T23:27:53.209072",
            "variable_name": "unk_dataframe_fefafa2258b9478b8240b021534a27b5"
          },
          "dfb9bcb2-7865-4fed-a16e-4b08badb85b0": {
            "dataframe_info": {
              "default_index_used": true,
              "orig_size_bytes": 240,
              "orig_num_rows": 2,
              "orig_num_cols": 7,
              "truncated_string_columns": [],
              "truncated_size_bytes": 240,
              "truncated_num_rows": 2,
              "truncated_num_cols": 7
            },
            "dx_settings": {
              "LOG_LEVEL": 30,
              "DEV_MODE": false,
              "DISPLAY_MAX_ROWS": 50000,
              "DISPLAY_MAX_COLUMNS": 100,
              "HTML_TABLE_SCHEMA": false,
              "MAX_RENDER_SIZE_BYTES": 104857600,
              "MAX_STRING_LENGTH": 50,
              "SAMPLING_FACTOR": 0.1,
              "DISPLAY_MODE": "simple",
              "SAMPLING_METHOD": "random",
              "COLUMN_SAMPLING_METHOD": "outer",
              "ROW_SAMPLING_METHOD": "random",
              "RANDOM_STATE": 12648430,
              "RESET_INDEX_VALUES": false,
              "FLATTEN_INDEX_VALUES": false,
              "FLATTEN_COLUMN_VALUES": true,
              "STRINGIFY_INDEX_VALUES": false,
              "STRINGIFY_COLUMN_VALUES": true,
              "ENABLE_DATALINK": true,
              "ENABLE_ASSIGNMENT": false,
              "NUM_PAST_SAMPLES_TRACKED": 3,
              "DB_LOCATION": ":memory:",
              "GENERATE_DEX_METADATA": false,
              "ALLOW_NOTEABLE_ATTRS": true
            },
            "display_id": "dfb9bcb2-7865-4fed-a16e-4b08badb85b0",
            "applied_filters": [],
            "sample_history": [],
            "sampling_time": "2023-03-10T23:35:36.867044",
            "variable_name": "unk_dataframe_e80af5ff9c8844409dfeba7c98fe8727"
          },
          "f172b285-3aee-4757-96f9-e7f3aa215b1a": {
            "dataframe_info": {
              "default_index_used": true,
              "orig_size_bytes": 240,
              "orig_num_rows": 2,
              "orig_num_cols": 7,
              "truncated_string_columns": [],
              "truncated_size_bytes": 240,
              "truncated_num_rows": 2,
              "truncated_num_cols": 7
            },
            "dx_settings": {
              "LOG_LEVEL": 30,
              "DEV_MODE": false,
              "DISPLAY_MAX_ROWS": 50000,
              "DISPLAY_MAX_COLUMNS": 100,
              "HTML_TABLE_SCHEMA": false,
              "MAX_RENDER_SIZE_BYTES": 104857600,
              "MAX_STRING_LENGTH": 50,
              "SAMPLING_FACTOR": 0.1,
              "DISPLAY_MODE": "simple",
              "SAMPLING_METHOD": "random",
              "COLUMN_SAMPLING_METHOD": "outer",
              "ROW_SAMPLING_METHOD": "random",
              "RANDOM_STATE": 12648430,
              "RESET_INDEX_VALUES": false,
              "FLATTEN_INDEX_VALUES": false,
              "FLATTEN_COLUMN_VALUES": true,
              "STRINGIFY_INDEX_VALUES": false,
              "STRINGIFY_COLUMN_VALUES": true,
              "ENABLE_DATALINK": true,
              "ENABLE_ASSIGNMENT": false,
              "NUM_PAST_SAMPLES_TRACKED": 3,
              "DB_LOCATION": ":memory:",
              "GENERATE_DEX_METADATA": false,
              "ALLOW_NOTEABLE_ATTRS": true
            },
            "display_id": "f172b285-3aee-4757-96f9-e7f3aa215b1a",
            "applied_filters": [],
            "sample_history": [],
            "sampling_time": "2023-03-10T23:40:37.314433",
            "variable_name": "cat_col1"
          }
        },
        "dx": {
          "views": [],
          "fieldMetadata": {},
          "simpleTable": true,
          "updated": 1678490875122
        }
      },
      "id": "a784091f-a2a3-4844-8b04-5c591946c871"
    },
    {
      "cell_type": "code",
      "source": [
        "cat_col1 = df_infer_final[cat_col]"
      ],
      "outputs": [],
      "execution_count": null,
      "metadata": {
        "jupyter": {
          "source_hidden": false,
          "outputs_hidden": false
        },
        "noteable": {
          "cell_type": "code"
        },
        "ExecuteTime": {
          "start_time": "2023-03-10T23:40:37.478953+00:00",
          "end_time": "2023-03-10T23:40:37.658974+00:00"
        }
      },
      "id": "acccb8cc-3a90-4c5a-a508-d8b801baff3e"
    },
    {
      "cell_type": "code",
      "source": [
        "df_infer_ohe = ohe.transform(df_infer_final[cat_col])"
      ],
      "outputs": [],
      "execution_count": null,
      "metadata": {
        "jupyter": {
          "source_hidden": false,
          "outputs_hidden": false
        },
        "noteable": {
          "cell_type": "code"
        },
        "ExecuteTime": {
          "start_time": "2023-03-10T23:40:37.666311+00:00",
          "end_time": "2023-03-10T23:40:37.882208+00:00"
        }
      },
      "id": "1bb922a1-db5e-4e05-b047-7be3b04326e1"
    },
    {
      "cell_type": "code",
      "source": [
        "df_infer_ohe"
      ],
      "outputs": [
        {
          "output_type": "display_data",
          "data": {
            "application/vnd.dataresource+json": {
              "schema": {
                "fields": [
                  {
                    "name": "index",
                    "type": "integer"
                  },
                  {
                    "name": "workclass_Private",
                    "type": "integer"
                  },
                  {
                    "name": "workclass_Self-emp-not-inc",
                    "type": "integer"
                  },
                  {
                    "name": "workclass_Local-gov",
                    "type": "integer"
                  },
                  {
                    "name": "workclass_State-gov",
                    "type": "integer"
                  },
                  {
                    "name": "workclass_Self-emp-inc",
                    "type": "integer"
                  },
                  {
                    "name": "workclass_Federal-gov",
                    "type": "integer"
                  },
                  {
                    "name": "workclass_Never-worked",
                    "type": "integer"
                  },
                  {
                    "name": "workclass_Without-pay",
                    "type": "integer"
                  },
                  {
                    "name": "education_5th-6th",
                    "type": "integer"
                  },
                  {
                    "name": "education_HS-grad",
                    "type": "integer"
                  },
                  {
                    "name": "education_7th-8th",
                    "type": "integer"
                  },
                  {
                    "name": "education_10th",
                    "type": "integer"
                  },
                  {
                    "name": "education_12th",
                    "type": "integer"
                  },
                  {
                    "name": "education_11th",
                    "type": "integer"
                  },
                  {
                    "name": "education_9th",
                    "type": "integer"
                  },
                  {
                    "name": "education_1st-4th",
                    "type": "integer"
                  },
                  {
                    "name": "marital_status_Never-married",
                    "type": "integer"
                  },
                  {
                    "name": "marital_status_Married-civ-spouse",
                    "type": "integer"
                  },
                  {
                    "name": "marital_status_Married-spouse-absent",
                    "type": "integer"
                  },
                  {
                    "name": "marital_status_Divorced",
                    "type": "integer"
                  },
                  {
                    "name": "marital_status_Separated",
                    "type": "integer"
                  },
                  {
                    "name": "marital_status_Widowed",
                    "type": "integer"
                  },
                  {
                    "name": "marital_status_Married-AF-spouse",
                    "type": "integer"
                  },
                  {
                    "name": "occupation_Machine-op-inspct",
                    "type": "integer"
                  },
                  {
                    "name": "occupation_Craft-repair",
                    "type": "integer"
                  },
                  {
                    "name": "occupation_Transport-moving",
                    "type": "integer"
                  },
                  {
                    "name": "occupation_Exec-managerial",
                    "type": "integer"
                  },
                  {
                    "name": "occupation_Handlers-cleaners",
                    "type": "integer"
                  },
                  {
                    "name": "occupation_Adm-clerical",
                    "type": "integer"
                  },
                  {
                    "name": "occupation_Sales",
                    "type": "integer"
                  },
                  {
                    "name": "occupation_Other-service",
                    "type": "integer"
                  },
                  {
                    "name": "occupation_Farming-fishing",
                    "type": "integer"
                  },
                  {
                    "name": "occupation_Tech-support",
                    "type": "integer"
                  },
                  {
                    "name": "occupation_Priv-house-serv",
                    "type": "integer"
                  },
                  {
                    "name": "occupation_Prof-specialty",
                    "type": "integer"
                  },
                  {
                    "name": "occupation_Protective-serv",
                    "type": "integer"
                  },
                  {
                    "name": "occupation_?",
                    "type": "integer"
                  },
                  {
                    "name": "relationship_Unmarried",
                    "type": "integer"
                  },
                  {
                    "name": "relationship_Husband",
                    "type": "integer"
                  },
                  {
                    "name": "relationship_Not-in-family",
                    "type": "integer"
                  },
                  {
                    "name": "relationship_Own-child",
                    "type": "integer"
                  },
                  {
                    "name": "relationship_Other-relative",
                    "type": "integer"
                  },
                  {
                    "name": "relationship_Wife",
                    "type": "integer"
                  },
                  {
                    "name": "race_White",
                    "type": "integer"
                  },
                  {
                    "name": "race_Black",
                    "type": "integer"
                  },
                  {
                    "name": "race_Asian-Pac-Islander",
                    "type": "integer"
                  },
                  {
                    "name": "race_Other",
                    "type": "integer"
                  },
                  {
                    "name": "race_Amer-Indian-Eskimo",
                    "type": "integer"
                  },
                  {
                    "name": "sex_Female",
                    "type": "integer"
                  },
                  {
                    "name": "sex_Male",
                    "type": "integer"
                  }
                ],
                "primaryKey": [
                  "index"
                ],
                "pandas_version": "1.4.0"
              },
              "data": [
                {
                  "index": 0,
                  "workclass_Private": 0,
                  "workclass_Self-emp-not-inc": 0,
                  "workclass_Local-gov": 0,
                  "workclass_State-gov": 0,
                  "workclass_Self-emp-inc": 0,
                  "workclass_Federal-gov": 0,
                  "workclass_Never-worked": 0,
                  "workclass_Without-pay": 0,
                  "education_5th-6th": 0,
                  "education_HS-grad": 0,
                  "education_7th-8th": 0,
                  "education_10th": 0,
                  "education_12th": 0,
                  "education_11th": 0,
                  "education_9th": 0,
                  "education_1st-4th": 0,
                  "marital_status_Never-married": 0,
                  "marital_status_Married-civ-spouse": 0,
                  "marital_status_Married-spouse-absent": 0,
                  "marital_status_Divorced": 0,
                  "marital_status_Separated": 0,
                  "marital_status_Widowed": 0,
                  "marital_status_Married-AF-spouse": 0,
                  "occupation_Machine-op-inspct": 0,
                  "occupation_Craft-repair": 0,
                  "occupation_Transport-moving": 0,
                  "occupation_Exec-managerial": 0,
                  "occupation_Handlers-cleaners": 0,
                  "occupation_Adm-clerical": 0,
                  "occupation_Sales": 0,
                  "occupation_Other-service": 0,
                  "occupation_Farming-fishing": 0,
                  "occupation_Tech-support": 0,
                  "occupation_Priv-house-serv": 0,
                  "occupation_Prof-specialty": 0,
                  "occupation_Protective-serv": 0,
                  "occupation_?": 0,
                  "relationship_Unmarried": 0,
                  "relationship_Husband": 0,
                  "relationship_Not-in-family": 0,
                  "relationship_Own-child": 0,
                  "relationship_Other-relative": 0,
                  "relationship_Wife": 0,
                  "race_White": 0,
                  "race_Black": 0,
                  "race_Asian-Pac-Islander": 0,
                  "race_Other": 0,
                  "race_Amer-Indian-Eskimo": 0,
                  "sex_Female": 0,
                  "sex_Male": 0
                },
                {
                  "index": 1,
                  "workclass_Private": 0,
                  "workclass_Self-emp-not-inc": 0,
                  "workclass_Local-gov": 0,
                  "workclass_State-gov": 0,
                  "workclass_Self-emp-inc": 0,
                  "workclass_Federal-gov": 0,
                  "workclass_Never-worked": 0,
                  "workclass_Without-pay": 0,
                  "education_5th-6th": 0,
                  "education_HS-grad": 0,
                  "education_7th-8th": 0,
                  "education_10th": 0,
                  "education_12th": 0,
                  "education_11th": 0,
                  "education_9th": 0,
                  "education_1st-4th": 0,
                  "marital_status_Never-married": 0,
                  "marital_status_Married-civ-spouse": 0,
                  "marital_status_Married-spouse-absent": 0,
                  "marital_status_Divorced": 0,
                  "marital_status_Separated": 0,
                  "marital_status_Widowed": 0,
                  "marital_status_Married-AF-spouse": 0,
                  "occupation_Machine-op-inspct": 0,
                  "occupation_Craft-repair": 0,
                  "occupation_Transport-moving": 0,
                  "occupation_Exec-managerial": 0,
                  "occupation_Handlers-cleaners": 0,
                  "occupation_Adm-clerical": 0,
                  "occupation_Sales": 0,
                  "occupation_Other-service": 0,
                  "occupation_Farming-fishing": 0,
                  "occupation_Tech-support": 0,
                  "occupation_Priv-house-serv": 0,
                  "occupation_Prof-specialty": 0,
                  "occupation_Protective-serv": 0,
                  "occupation_?": 0,
                  "relationship_Unmarried": 0,
                  "relationship_Husband": 0,
                  "relationship_Not-in-family": 0,
                  "relationship_Own-child": 0,
                  "relationship_Other-relative": 0,
                  "relationship_Wife": 0,
                  "race_White": 0,
                  "race_Black": 0,
                  "race_Asian-Pac-Islander": 0,
                  "race_Other": 0,
                  "race_Amer-Indian-Eskimo": 0,
                  "sex_Female": 0,
                  "sex_Male": 0
                }
              ],
              "datalink": {
                "display_id": "6354baa6-bc77-4d42-b26c-e336f4680d9d"
              }
            }
          },
          "metadata": {
            "application/vnd.dataresource+json": {
              "datalink": {
                "dataframe_info": {
                  "default_index_used": true,
                  "orig_size_bytes": 928,
                  "orig_num_rows": 2,
                  "orig_num_cols": 50,
                  "truncated_string_columns": [],
                  "truncated_size_bytes": 928,
                  "truncated_num_rows": 2,
                  "truncated_num_cols": 50
                },
                "dx_settings": {
                  "NUM_PAST_SAMPLES_TRACKED": 3,
                  "ENABLE_DATALINK": true,
                  "DISPLAY_MODE": "simple",
                  "GENERATE_DEX_METADATA": false,
                  "STRINGIFY_INDEX_VALUES": false,
                  "ALLOW_NOTEABLE_ATTRS": true,
                  "DISPLAY_MAX_COLUMNS": 100,
                  "HTML_TABLE_SCHEMA": false,
                  "SAMPLING_FACTOR": 0.1,
                  "LOG_LEVEL": 30,
                  "ENABLE_ASSIGNMENT": false,
                  "FLATTEN_INDEX_VALUES": false,
                  "DEV_MODE": false,
                  "COLUMN_SAMPLING_METHOD": "outer",
                  "FLATTEN_COLUMN_VALUES": true,
                  "DISPLAY_MAX_ROWS": 50000,
                  "ROW_SAMPLING_METHOD": "random",
                  "RANDOM_STATE": 12648430,
                  "DB_LOCATION": ":memory:",
                  "STRINGIFY_COLUMN_VALUES": true,
                  "SAMPLING_METHOD": "random",
                  "MAX_STRING_LENGTH": 50,
                  "MAX_RENDER_SIZE_BYTES": 104857600,
                  "RESET_INDEX_VALUES": false
                },
                "display_id": "6354baa6-bc77-4d42-b26c-e336f4680d9d",
                "applied_filters": [],
                "sample_history": [],
                "sampling_time": "2023-03-10T23:40:38.049924",
                "variable_name": "df_infer_ohe"
              },
              "display_id": "6354baa6-bc77-4d42-b26c-e336f4680d9d"
            }
          }
        }
      ],
      "execution_count": null,
      "metadata": {
        "jupyter": {
          "source_hidden": false,
          "outputs_hidden": false
        },
        "noteable": {
          "cell_type": "code"
        },
        "ExecuteTime": {
          "start_time": "2023-03-10T23:40:37.892302+00:00",
          "end_time": "2023-03-10T23:40:38.219775+00:00"
        },
        "datalink": {
          "66f983af-be12-4918-9a5b-8663c1fd7d7c": {
            "dataframe_info": {
              "default_index_used": true,
              "orig_size_bytes": 928,
              "orig_num_rows": 2,
              "orig_num_cols": 50,
              "truncated_string_columns": [],
              "truncated_size_bytes": 928,
              "truncated_num_rows": 2,
              "truncated_num_cols": 50
            },
            "dx_settings": {
              "LOG_LEVEL": 30,
              "DEV_MODE": false,
              "DISPLAY_MAX_ROWS": 50000,
              "DISPLAY_MAX_COLUMNS": 100,
              "HTML_TABLE_SCHEMA": false,
              "MAX_RENDER_SIZE_BYTES": 104857600,
              "MAX_STRING_LENGTH": 50,
              "SAMPLING_FACTOR": 0.1,
              "DISPLAY_MODE": "simple",
              "SAMPLING_METHOD": "random",
              "COLUMN_SAMPLING_METHOD": "outer",
              "ROW_SAMPLING_METHOD": "random",
              "RANDOM_STATE": 12648430,
              "RESET_INDEX_VALUES": false,
              "FLATTEN_INDEX_VALUES": false,
              "FLATTEN_COLUMN_VALUES": true,
              "STRINGIFY_INDEX_VALUES": false,
              "STRINGIFY_COLUMN_VALUES": true,
              "ENABLE_DATALINK": true,
              "ENABLE_ASSIGNMENT": false,
              "NUM_PAST_SAMPLES_TRACKED": 3,
              "DB_LOCATION": ":memory:",
              "GENERATE_DEX_METADATA": false,
              "ALLOW_NOTEABLE_ATTRS": true
            },
            "display_id": "66f983af-be12-4918-9a5b-8663c1fd7d7c",
            "applied_filters": [],
            "sample_history": [],
            "sampling_time": "2023-03-10T23:29:37.378986",
            "variable_name": "df_infer_ohe"
          },
          "95d21bea-f8d5-4467-a237-ddc2865f83d4": {
            "dataframe_info": {
              "default_index_used": true,
              "orig_size_bytes": 928,
              "orig_num_rows": 2,
              "orig_num_cols": 50,
              "truncated_string_columns": [],
              "truncated_size_bytes": 928,
              "truncated_num_rows": 2,
              "truncated_num_cols": 50
            },
            "dx_settings": {
              "LOG_LEVEL": 30,
              "DEV_MODE": false,
              "DISPLAY_MAX_ROWS": 50000,
              "DISPLAY_MAX_COLUMNS": 100,
              "HTML_TABLE_SCHEMA": false,
              "MAX_RENDER_SIZE_BYTES": 104857600,
              "MAX_STRING_LENGTH": 50,
              "SAMPLING_FACTOR": 0.1,
              "DISPLAY_MODE": "simple",
              "SAMPLING_METHOD": "random",
              "COLUMN_SAMPLING_METHOD": "outer",
              "ROW_SAMPLING_METHOD": "random",
              "RANDOM_STATE": 12648430,
              "RESET_INDEX_VALUES": false,
              "FLATTEN_INDEX_VALUES": false,
              "FLATTEN_COLUMN_VALUES": true,
              "STRINGIFY_INDEX_VALUES": false,
              "STRINGIFY_COLUMN_VALUES": true,
              "ENABLE_DATALINK": true,
              "ENABLE_ASSIGNMENT": false,
              "NUM_PAST_SAMPLES_TRACKED": 3,
              "DB_LOCATION": ":memory:",
              "GENERATE_DEX_METADATA": false,
              "ALLOW_NOTEABLE_ATTRS": true
            },
            "display_id": "95d21bea-f8d5-4467-a237-ddc2865f83d4",
            "applied_filters": [],
            "sample_history": [],
            "sampling_time": "2023-03-10T23:35:42.937194",
            "variable_name": "df_infer_ohe"
          },
          "6354baa6-bc77-4d42-b26c-e336f4680d9d": {
            "dataframe_info": {
              "default_index_used": true,
              "orig_size_bytes": 928,
              "orig_num_rows": 2,
              "orig_num_cols": 50,
              "truncated_string_columns": [],
              "truncated_size_bytes": 928,
              "truncated_num_rows": 2,
              "truncated_num_cols": 50
            },
            "dx_settings": {
              "LOG_LEVEL": 30,
              "DEV_MODE": false,
              "DISPLAY_MAX_ROWS": 50000,
              "DISPLAY_MAX_COLUMNS": 100,
              "HTML_TABLE_SCHEMA": false,
              "MAX_RENDER_SIZE_BYTES": 104857600,
              "MAX_STRING_LENGTH": 50,
              "SAMPLING_FACTOR": 0.1,
              "DISPLAY_MODE": "simple",
              "SAMPLING_METHOD": "random",
              "COLUMN_SAMPLING_METHOD": "outer",
              "ROW_SAMPLING_METHOD": "random",
              "RANDOM_STATE": 12648430,
              "RESET_INDEX_VALUES": false,
              "FLATTEN_INDEX_VALUES": false,
              "FLATTEN_COLUMN_VALUES": true,
              "STRINGIFY_INDEX_VALUES": false,
              "STRINGIFY_COLUMN_VALUES": true,
              "ENABLE_DATALINK": true,
              "ENABLE_ASSIGNMENT": false,
              "NUM_PAST_SAMPLES_TRACKED": 3,
              "DB_LOCATION": ":memory:",
              "GENERATE_DEX_METADATA": false,
              "ALLOW_NOTEABLE_ATTRS": true
            },
            "display_id": "6354baa6-bc77-4d42-b26c-e336f4680d9d",
            "applied_filters": [],
            "sample_history": [],
            "sampling_time": "2023-03-10T23:40:38.049924",
            "variable_name": "df_infer_ohe"
          }
        },
        "dx": {
          "views": [],
          "fieldMetadata": {},
          "simpleTable": true,
          "updated": 1678490978947
        }
      },
      "id": "d0d21699-6ae4-4c27-9af4-11d03a88fb6b"
    },
    {
      "cell_type": "code",
      "source": [
        " num_col1 = df_infer[num_col]"
      ],
      "outputs": [],
      "execution_count": null,
      "metadata": {
        "jupyter": {
          "source_hidden": false,
          "outputs_hidden": false
        },
        "noteable": {
          "cell_type": "code"
        },
        "ExecuteTime": {
          "start_time": "2023-03-10T23:40:38.228135+00:00",
          "end_time": "2023-03-10T23:40:38.409740+00:00"
        }
      },
      "id": "24a14fcc-a263-4aa7-bcb1-6cc67e33ec2d"
    },
    {
      "cell_type": "code",
      "source": [
        "num_col1"
      ],
      "outputs": [
        {
          "output_type": "display_data",
          "data": {
            "application/vnd.dataresource+json": {
              "schema": {
                "fields": [
                  {
                    "name": "index",
                    "type": "integer"
                  },
                  {
                    "name": "age",
                    "type": "integer"
                  },
                  {
                    "name": "hours_per_week",
                    "type": "integer"
                  }
                ],
                "primaryKey": [
                  "index"
                ],
                "pandas_version": "1.4.0"
              },
              "data": [
                {
                  "index": 0,
                  "age": 40,
                  "hours_per_week": 99
                },
                {
                  "index": 1,
                  "age": 22,
                  "hours_per_week": 90
                }
              ],
              "datalink": {
                "display_id": "ebba3ce3-6be3-486e-933e-2a62224e6ebb"
              }
            }
          },
          "metadata": {
            "application/vnd.dataresource+json": {
              "datalink": {
                "dataframe_info": {
                  "default_index_used": true,
                  "orig_size_bytes": 160,
                  "orig_num_rows": 2,
                  "orig_num_cols": 2,
                  "truncated_string_columns": [],
                  "truncated_size_bytes": 160,
                  "truncated_num_rows": 2,
                  "truncated_num_cols": 2
                },
                "dx_settings": {
                  "NUM_PAST_SAMPLES_TRACKED": 3,
                  "ENABLE_DATALINK": true,
                  "DISPLAY_MODE": "simple",
                  "GENERATE_DEX_METADATA": false,
                  "STRINGIFY_INDEX_VALUES": false,
                  "ALLOW_NOTEABLE_ATTRS": true,
                  "DISPLAY_MAX_COLUMNS": 100,
                  "HTML_TABLE_SCHEMA": false,
                  "SAMPLING_FACTOR": 0.1,
                  "LOG_LEVEL": 30,
                  "ENABLE_ASSIGNMENT": false,
                  "FLATTEN_INDEX_VALUES": false,
                  "DEV_MODE": false,
                  "COLUMN_SAMPLING_METHOD": "outer",
                  "FLATTEN_COLUMN_VALUES": true,
                  "DISPLAY_MAX_ROWS": 50000,
                  "ROW_SAMPLING_METHOD": "random",
                  "RANDOM_STATE": 12648430,
                  "DB_LOCATION": ":memory:",
                  "STRINGIFY_COLUMN_VALUES": true,
                  "SAMPLING_METHOD": "random",
                  "MAX_STRING_LENGTH": 50,
                  "MAX_RENDER_SIZE_BYTES": 104857600,
                  "RESET_INDEX_VALUES": false
                },
                "display_id": "ebba3ce3-6be3-486e-933e-2a62224e6ebb",
                "applied_filters": [],
                "sample_history": [],
                "sampling_time": "2023-03-10T23:40:38.459172",
                "variable_name": "num_col1"
              },
              "display_id": "ebba3ce3-6be3-486e-933e-2a62224e6ebb"
            }
          }
        }
      ],
      "execution_count": null,
      "metadata": {
        "jupyter": {
          "source_hidden": false,
          "outputs_hidden": false
        },
        "noteable": {
          "cell_type": "code"
        },
        "ExecuteTime": {
          "start_time": "2023-03-10T23:40:38.417511+00:00",
          "end_time": "2023-03-10T23:40:38.615766+00:00"
        },
        "datalink": {
          "4cad014a-e3e4-4238-b06a-a99b57ab0df4": {
            "dataframe_info": {
              "default_index_used": true,
              "orig_size_bytes": 160,
              "orig_num_rows": 2,
              "orig_num_cols": 2,
              "truncated_string_columns": [],
              "truncated_size_bytes": 160,
              "truncated_num_rows": 2,
              "truncated_num_cols": 2
            },
            "dx_settings": {
              "LOG_LEVEL": 30,
              "DEV_MODE": false,
              "DISPLAY_MAX_ROWS": 50000,
              "DISPLAY_MAX_COLUMNS": 100,
              "HTML_TABLE_SCHEMA": false,
              "MAX_RENDER_SIZE_BYTES": 104857600,
              "MAX_STRING_LENGTH": 50,
              "SAMPLING_FACTOR": 0.1,
              "DISPLAY_MODE": "simple",
              "SAMPLING_METHOD": "random",
              "COLUMN_SAMPLING_METHOD": "outer",
              "ROW_SAMPLING_METHOD": "random",
              "RANDOM_STATE": 12648430,
              "RESET_INDEX_VALUES": false,
              "FLATTEN_INDEX_VALUES": false,
              "FLATTEN_COLUMN_VALUES": true,
              "STRINGIFY_INDEX_VALUES": false,
              "STRINGIFY_COLUMN_VALUES": true,
              "ENABLE_DATALINK": true,
              "ENABLE_ASSIGNMENT": false,
              "NUM_PAST_SAMPLES_TRACKED": 3,
              "DB_LOCATION": ":memory:",
              "GENERATE_DEX_METADATA": false,
              "ALLOW_NOTEABLE_ATTRS": true
            },
            "display_id": "4cad014a-e3e4-4238-b06a-a99b57ab0df4",
            "applied_filters": [],
            "sample_history": [],
            "sampling_time": "2023-03-10T23:31:23.280740",
            "variable_name": "num_col1"
          },
          "53586f8a-1c41-422e-ba7e-e074984123d8": {
            "dataframe_info": {
              "default_index_used": true,
              "orig_size_bytes": 160,
              "orig_num_rows": 2,
              "orig_num_cols": 2,
              "truncated_string_columns": [],
              "truncated_size_bytes": 160,
              "truncated_num_rows": 2,
              "truncated_num_cols": 2
            },
            "dx_settings": {
              "LOG_LEVEL": 30,
              "DEV_MODE": false,
              "DISPLAY_MAX_ROWS": 50000,
              "DISPLAY_MAX_COLUMNS": 100,
              "HTML_TABLE_SCHEMA": false,
              "MAX_RENDER_SIZE_BYTES": 104857600,
              "MAX_STRING_LENGTH": 50,
              "SAMPLING_FACTOR": 0.1,
              "DISPLAY_MODE": "simple",
              "SAMPLING_METHOD": "random",
              "COLUMN_SAMPLING_METHOD": "outer",
              "ROW_SAMPLING_METHOD": "random",
              "RANDOM_STATE": 12648430,
              "RESET_INDEX_VALUES": false,
              "FLATTEN_INDEX_VALUES": false,
              "FLATTEN_COLUMN_VALUES": true,
              "STRINGIFY_INDEX_VALUES": false,
              "STRINGIFY_COLUMN_VALUES": true,
              "ENABLE_DATALINK": true,
              "ENABLE_ASSIGNMENT": false,
              "NUM_PAST_SAMPLES_TRACKED": 3,
              "DB_LOCATION": ":memory:",
              "GENERATE_DEX_METADATA": false,
              "ALLOW_NOTEABLE_ATTRS": true
            },
            "display_id": "53586f8a-1c41-422e-ba7e-e074984123d8",
            "applied_filters": [],
            "sample_history": [],
            "sampling_time": "2023-03-10T23:35:47.855530",
            "variable_name": "num_col1"
          },
          "ebba3ce3-6be3-486e-933e-2a62224e6ebb": {
            "dataframe_info": {
              "default_index_used": true,
              "orig_size_bytes": 160,
              "orig_num_rows": 2,
              "orig_num_cols": 2,
              "truncated_string_columns": [],
              "truncated_size_bytes": 160,
              "truncated_num_rows": 2,
              "truncated_num_cols": 2
            },
            "dx_settings": {
              "LOG_LEVEL": 30,
              "DEV_MODE": false,
              "DISPLAY_MAX_ROWS": 50000,
              "DISPLAY_MAX_COLUMNS": 100,
              "HTML_TABLE_SCHEMA": false,
              "MAX_RENDER_SIZE_BYTES": 104857600,
              "MAX_STRING_LENGTH": 50,
              "SAMPLING_FACTOR": 0.1,
              "DISPLAY_MODE": "simple",
              "SAMPLING_METHOD": "random",
              "COLUMN_SAMPLING_METHOD": "outer",
              "ROW_SAMPLING_METHOD": "random",
              "RANDOM_STATE": 12648430,
              "RESET_INDEX_VALUES": false,
              "FLATTEN_INDEX_VALUES": false,
              "FLATTEN_COLUMN_VALUES": true,
              "STRINGIFY_INDEX_VALUES": false,
              "STRINGIFY_COLUMN_VALUES": true,
              "ENABLE_DATALINK": true,
              "ENABLE_ASSIGNMENT": false,
              "NUM_PAST_SAMPLES_TRACKED": 3,
              "DB_LOCATION": ":memory:",
              "GENERATE_DEX_METADATA": false,
              "ALLOW_NOTEABLE_ATTRS": true
            },
            "display_id": "ebba3ce3-6be3-486e-933e-2a62224e6ebb",
            "applied_filters": [],
            "sample_history": [],
            "sampling_time": "2023-03-10T23:40:38.459172",
            "variable_name": "num_col1"
          }
        },
        "dx": {
          "views": [],
          "fieldMetadata": {},
          "simpleTable": true,
          "updated": 1678491086986
        }
      },
      "id": "133b1372-580d-42a8-b93b-0e1c009cb9aa"
    },
    {
      "cell_type": "code",
      "source": [
        "feature_names=ohe.get_feature_names_out(input_features=cat_col)\n",
        "df_infer_final_ohe= pd.DataFrame(df_infer_ohe, columns=feature_names)"
      ],
      "outputs": [],
      "execution_count": null,
      "metadata": {
        "jupyter": {
          "source_hidden": false,
          "outputs_hidden": false
        },
        "noteable": {
          "cell_type": "code"
        },
        "ExecuteTime": {
          "start_time": "2023-03-10T23:40:38.624147+00:00",
          "end_time": "2023-03-10T23:40:38.806312+00:00"
        }
      },
      "id": "9825c447-ad39-4f68-b457-738093a378a5"
    },
    {
      "cell_type": "code",
      "source": [
        "df_infer_final_ohe"
      ],
      "outputs": [
        {
          "output_type": "display_data",
          "data": {
            "application/vnd.dataresource+json": {
              "schema": {
                "fields": [
                  {
                    "name": "index",
                    "type": "integer"
                  },
                  {
                    "name": "workclass_Private",
                    "type": "integer"
                  },
                  {
                    "name": "workclass_Self-emp-not-inc",
                    "type": "integer"
                  },
                  {
                    "name": "workclass_Local-gov",
                    "type": "integer"
                  },
                  {
                    "name": "workclass_State-gov",
                    "type": "integer"
                  },
                  {
                    "name": "workclass_Self-emp-inc",
                    "type": "integer"
                  },
                  {
                    "name": "workclass_Federal-gov",
                    "type": "integer"
                  },
                  {
                    "name": "workclass_Never-worked",
                    "type": "integer"
                  },
                  {
                    "name": "workclass_Without-pay",
                    "type": "integer"
                  },
                  {
                    "name": "education_5th-6th",
                    "type": "integer"
                  },
                  {
                    "name": "education_HS-grad",
                    "type": "integer"
                  },
                  {
                    "name": "education_7th-8th",
                    "type": "integer"
                  },
                  {
                    "name": "education_10th",
                    "type": "integer"
                  },
                  {
                    "name": "education_12th",
                    "type": "integer"
                  },
                  {
                    "name": "education_11th",
                    "type": "integer"
                  },
                  {
                    "name": "education_9th",
                    "type": "integer"
                  },
                  {
                    "name": "education_1st-4th",
                    "type": "integer"
                  },
                  {
                    "name": "marital_status_Never-married",
                    "type": "integer"
                  },
                  {
                    "name": "marital_status_Married-civ-spouse",
                    "type": "integer"
                  },
                  {
                    "name": "marital_status_Married-spouse-absent",
                    "type": "integer"
                  },
                  {
                    "name": "marital_status_Divorced",
                    "type": "integer"
                  },
                  {
                    "name": "marital_status_Separated",
                    "type": "integer"
                  },
                  {
                    "name": "marital_status_Widowed",
                    "type": "integer"
                  },
                  {
                    "name": "marital_status_Married-AF-spouse",
                    "type": "integer"
                  },
                  {
                    "name": "occupation_Machine-op-inspct",
                    "type": "integer"
                  },
                  {
                    "name": "occupation_Craft-repair",
                    "type": "integer"
                  },
                  {
                    "name": "occupation_Transport-moving",
                    "type": "integer"
                  },
                  {
                    "name": "occupation_Exec-managerial",
                    "type": "integer"
                  },
                  {
                    "name": "occupation_Handlers-cleaners",
                    "type": "integer"
                  },
                  {
                    "name": "occupation_Adm-clerical",
                    "type": "integer"
                  },
                  {
                    "name": "occupation_Sales",
                    "type": "integer"
                  },
                  {
                    "name": "occupation_Other-service",
                    "type": "integer"
                  },
                  {
                    "name": "occupation_Farming-fishing",
                    "type": "integer"
                  },
                  {
                    "name": "occupation_Tech-support",
                    "type": "integer"
                  },
                  {
                    "name": "occupation_Priv-house-serv",
                    "type": "integer"
                  },
                  {
                    "name": "occupation_Prof-specialty",
                    "type": "integer"
                  },
                  {
                    "name": "occupation_Protective-serv",
                    "type": "integer"
                  },
                  {
                    "name": "occupation_?",
                    "type": "integer"
                  },
                  {
                    "name": "relationship_Unmarried",
                    "type": "integer"
                  },
                  {
                    "name": "relationship_Husband",
                    "type": "integer"
                  },
                  {
                    "name": "relationship_Not-in-family",
                    "type": "integer"
                  },
                  {
                    "name": "relationship_Own-child",
                    "type": "integer"
                  },
                  {
                    "name": "relationship_Other-relative",
                    "type": "integer"
                  },
                  {
                    "name": "relationship_Wife",
                    "type": "integer"
                  },
                  {
                    "name": "race_White",
                    "type": "integer"
                  },
                  {
                    "name": "race_Black",
                    "type": "integer"
                  },
                  {
                    "name": "race_Asian-Pac-Islander",
                    "type": "integer"
                  },
                  {
                    "name": "race_Other",
                    "type": "integer"
                  },
                  {
                    "name": "race_Amer-Indian-Eskimo",
                    "type": "integer"
                  },
                  {
                    "name": "sex_Female",
                    "type": "integer"
                  },
                  {
                    "name": "sex_Male",
                    "type": "integer"
                  }
                ],
                "primaryKey": [
                  "index"
                ],
                "pandas_version": "1.4.0"
              },
              "data": [
                {
                  "index": 0,
                  "workclass_Private": 0,
                  "workclass_Self-emp-not-inc": 0,
                  "workclass_Local-gov": 0,
                  "workclass_State-gov": 0,
                  "workclass_Self-emp-inc": 0,
                  "workclass_Federal-gov": 0,
                  "workclass_Never-worked": 0,
                  "workclass_Without-pay": 0,
                  "education_5th-6th": 0,
                  "education_HS-grad": 0,
                  "education_7th-8th": 0,
                  "education_10th": 0,
                  "education_12th": 0,
                  "education_11th": 0,
                  "education_9th": 0,
                  "education_1st-4th": 0,
                  "marital_status_Never-married": 0,
                  "marital_status_Married-civ-spouse": 0,
                  "marital_status_Married-spouse-absent": 0,
                  "marital_status_Divorced": 0,
                  "marital_status_Separated": 0,
                  "marital_status_Widowed": 0,
                  "marital_status_Married-AF-spouse": 0,
                  "occupation_Machine-op-inspct": 0,
                  "occupation_Craft-repair": 0,
                  "occupation_Transport-moving": 0,
                  "occupation_Exec-managerial": 0,
                  "occupation_Handlers-cleaners": 0,
                  "occupation_Adm-clerical": 0,
                  "occupation_Sales": 0,
                  "occupation_Other-service": 0,
                  "occupation_Farming-fishing": 0,
                  "occupation_Tech-support": 0,
                  "occupation_Priv-house-serv": 0,
                  "occupation_Prof-specialty": 0,
                  "occupation_Protective-serv": 0,
                  "occupation_?": 0,
                  "relationship_Unmarried": 0,
                  "relationship_Husband": 0,
                  "relationship_Not-in-family": 0,
                  "relationship_Own-child": 0,
                  "relationship_Other-relative": 0,
                  "relationship_Wife": 0,
                  "race_White": 0,
                  "race_Black": 0,
                  "race_Asian-Pac-Islander": 0,
                  "race_Other": 0,
                  "race_Amer-Indian-Eskimo": 0,
                  "sex_Female": 0,
                  "sex_Male": 0
                },
                {
                  "index": 1,
                  "workclass_Private": 0,
                  "workclass_Self-emp-not-inc": 0,
                  "workclass_Local-gov": 0,
                  "workclass_State-gov": 0,
                  "workclass_Self-emp-inc": 0,
                  "workclass_Federal-gov": 0,
                  "workclass_Never-worked": 0,
                  "workclass_Without-pay": 0,
                  "education_5th-6th": 0,
                  "education_HS-grad": 0,
                  "education_7th-8th": 0,
                  "education_10th": 0,
                  "education_12th": 0,
                  "education_11th": 0,
                  "education_9th": 0,
                  "education_1st-4th": 0,
                  "marital_status_Never-married": 0,
                  "marital_status_Married-civ-spouse": 0,
                  "marital_status_Married-spouse-absent": 0,
                  "marital_status_Divorced": 0,
                  "marital_status_Separated": 0,
                  "marital_status_Widowed": 0,
                  "marital_status_Married-AF-spouse": 0,
                  "occupation_Machine-op-inspct": 0,
                  "occupation_Craft-repair": 0,
                  "occupation_Transport-moving": 0,
                  "occupation_Exec-managerial": 0,
                  "occupation_Handlers-cleaners": 0,
                  "occupation_Adm-clerical": 0,
                  "occupation_Sales": 0,
                  "occupation_Other-service": 0,
                  "occupation_Farming-fishing": 0,
                  "occupation_Tech-support": 0,
                  "occupation_Priv-house-serv": 0,
                  "occupation_Prof-specialty": 0,
                  "occupation_Protective-serv": 0,
                  "occupation_?": 0,
                  "relationship_Unmarried": 0,
                  "relationship_Husband": 0,
                  "relationship_Not-in-family": 0,
                  "relationship_Own-child": 0,
                  "relationship_Other-relative": 0,
                  "relationship_Wife": 0,
                  "race_White": 0,
                  "race_Black": 0,
                  "race_Asian-Pac-Islander": 0,
                  "race_Other": 0,
                  "race_Amer-Indian-Eskimo": 0,
                  "sex_Female": 0,
                  "sex_Male": 0
                }
              ],
              "datalink": {
                "display_id": "eb19ced9-14d7-4bbb-9f84-dae807ed8102"
              }
            }
          },
          "metadata": {
            "application/vnd.dataresource+json": {
              "datalink": {
                "dataframe_info": {
                  "default_index_used": true,
                  "orig_size_bytes": 928,
                  "orig_num_rows": 2,
                  "orig_num_cols": 50,
                  "truncated_string_columns": [],
                  "truncated_size_bytes": 928,
                  "truncated_num_rows": 2,
                  "truncated_num_cols": 50
                },
                "dx_settings": {
                  "NUM_PAST_SAMPLES_TRACKED": 3,
                  "ENABLE_DATALINK": true,
                  "DISPLAY_MODE": "simple",
                  "GENERATE_DEX_METADATA": false,
                  "STRINGIFY_INDEX_VALUES": false,
                  "ALLOW_NOTEABLE_ATTRS": true,
                  "DISPLAY_MAX_COLUMNS": 100,
                  "HTML_TABLE_SCHEMA": false,
                  "SAMPLING_FACTOR": 0.1,
                  "LOG_LEVEL": 30,
                  "ENABLE_ASSIGNMENT": false,
                  "FLATTEN_INDEX_VALUES": false,
                  "DEV_MODE": false,
                  "COLUMN_SAMPLING_METHOD": "outer",
                  "FLATTEN_COLUMN_VALUES": true,
                  "DISPLAY_MAX_ROWS": 50000,
                  "ROW_SAMPLING_METHOD": "random",
                  "RANDOM_STATE": 12648430,
                  "DB_LOCATION": ":memory:",
                  "STRINGIFY_COLUMN_VALUES": true,
                  "SAMPLING_METHOD": "random",
                  "MAX_STRING_LENGTH": 50,
                  "MAX_RENDER_SIZE_BYTES": 104857600,
                  "RESET_INDEX_VALUES": false
                },
                "display_id": "eb19ced9-14d7-4bbb-9f84-dae807ed8102",
                "applied_filters": [],
                "sample_history": [],
                "sampling_time": "2023-03-10T23:40:38.958176",
                "variable_name": "df_infer_ohe"
              },
              "display_id": "eb19ced9-14d7-4bbb-9f84-dae807ed8102"
            }
          }
        }
      ],
      "execution_count": null,
      "metadata": {
        "jupyter": {
          "source_hidden": false,
          "outputs_hidden": false
        },
        "noteable": {
          "cell_type": "code"
        },
        "ExecuteTime": {
          "start_time": "2023-03-10T23:40:38.814169+00:00",
          "end_time": "2023-03-10T23:40:39.124700+00:00"
        },
        "datalink": {
          "a74862c5-bbda-4b15-81a9-00507504ca83": {
            "dataframe_info": {
              "default_index_used": true,
              "orig_size_bytes": 928,
              "orig_num_rows": 2,
              "orig_num_cols": 50,
              "truncated_string_columns": [],
              "truncated_size_bytes": 928,
              "truncated_num_rows": 2,
              "truncated_num_cols": 50
            },
            "dx_settings": {
              "LOG_LEVEL": 30,
              "DEV_MODE": false,
              "DISPLAY_MAX_ROWS": 50000,
              "DISPLAY_MAX_COLUMNS": 100,
              "HTML_TABLE_SCHEMA": false,
              "MAX_RENDER_SIZE_BYTES": 104857600,
              "MAX_STRING_LENGTH": 50,
              "SAMPLING_FACTOR": 0.1,
              "DISPLAY_MODE": "simple",
              "SAMPLING_METHOD": "random",
              "COLUMN_SAMPLING_METHOD": "outer",
              "ROW_SAMPLING_METHOD": "random",
              "RANDOM_STATE": 12648430,
              "RESET_INDEX_VALUES": false,
              "FLATTEN_INDEX_VALUES": false,
              "FLATTEN_COLUMN_VALUES": true,
              "STRINGIFY_INDEX_VALUES": false,
              "STRINGIFY_COLUMN_VALUES": true,
              "ENABLE_DATALINK": true,
              "ENABLE_ASSIGNMENT": false,
              "NUM_PAST_SAMPLES_TRACKED": 3,
              "DB_LOCATION": ":memory:",
              "GENERATE_DEX_METADATA": false,
              "ALLOW_NOTEABLE_ATTRS": true
            },
            "display_id": "a74862c5-bbda-4b15-81a9-00507504ca83",
            "applied_filters": [],
            "sample_history": [],
            "sampling_time": "2023-03-10T23:32:35.382950",
            "variable_name": "df_infer_ohe"
          },
          "552a24d7-61b6-4aa5-9d6b-ab588aa73d81": {
            "dataframe_info": {
              "default_index_used": true,
              "orig_size_bytes": 928,
              "orig_num_rows": 2,
              "orig_num_cols": 50,
              "truncated_string_columns": [],
              "truncated_size_bytes": 928,
              "truncated_num_rows": 2,
              "truncated_num_cols": 50
            },
            "dx_settings": {
              "LOG_LEVEL": 30,
              "DEV_MODE": false,
              "DISPLAY_MAX_ROWS": 50000,
              "DISPLAY_MAX_COLUMNS": 100,
              "HTML_TABLE_SCHEMA": false,
              "MAX_RENDER_SIZE_BYTES": 104857600,
              "MAX_STRING_LENGTH": 50,
              "SAMPLING_FACTOR": 0.1,
              "DISPLAY_MODE": "simple",
              "SAMPLING_METHOD": "random",
              "COLUMN_SAMPLING_METHOD": "outer",
              "ROW_SAMPLING_METHOD": "random",
              "RANDOM_STATE": 12648430,
              "RESET_INDEX_VALUES": false,
              "FLATTEN_INDEX_VALUES": false,
              "FLATTEN_COLUMN_VALUES": true,
              "STRINGIFY_INDEX_VALUES": false,
              "STRINGIFY_COLUMN_VALUES": true,
              "ENABLE_DATALINK": true,
              "ENABLE_ASSIGNMENT": false,
              "NUM_PAST_SAMPLES_TRACKED": 3,
              "DB_LOCATION": ":memory:",
              "GENERATE_DEX_METADATA": false,
              "ALLOW_NOTEABLE_ATTRS": true
            },
            "display_id": "552a24d7-61b6-4aa5-9d6b-ab588aa73d81",
            "applied_filters": [],
            "sample_history": [],
            "sampling_time": "2023-03-10T23:35:52.951854",
            "variable_name": "df_infer_ohe"
          },
          "eb19ced9-14d7-4bbb-9f84-dae807ed8102": {
            "dataframe_info": {
              "default_index_used": true,
              "orig_size_bytes": 928,
              "orig_num_rows": 2,
              "orig_num_cols": 50,
              "truncated_string_columns": [],
              "truncated_size_bytes": 928,
              "truncated_num_rows": 2,
              "truncated_num_cols": 50
            },
            "dx_settings": {
              "LOG_LEVEL": 30,
              "DEV_MODE": false,
              "DISPLAY_MAX_ROWS": 50000,
              "DISPLAY_MAX_COLUMNS": 100,
              "HTML_TABLE_SCHEMA": false,
              "MAX_RENDER_SIZE_BYTES": 104857600,
              "MAX_STRING_LENGTH": 50,
              "SAMPLING_FACTOR": 0.1,
              "DISPLAY_MODE": "simple",
              "SAMPLING_METHOD": "random",
              "COLUMN_SAMPLING_METHOD": "outer",
              "ROW_SAMPLING_METHOD": "random",
              "RANDOM_STATE": 12648430,
              "RESET_INDEX_VALUES": false,
              "FLATTEN_INDEX_VALUES": false,
              "FLATTEN_COLUMN_VALUES": true,
              "STRINGIFY_INDEX_VALUES": false,
              "STRINGIFY_COLUMN_VALUES": true,
              "ENABLE_DATALINK": true,
              "ENABLE_ASSIGNMENT": false,
              "NUM_PAST_SAMPLES_TRACKED": 3,
              "DB_LOCATION": ":memory:",
              "GENERATE_DEX_METADATA": false,
              "ALLOW_NOTEABLE_ATTRS": true
            },
            "display_id": "eb19ced9-14d7-4bbb-9f84-dae807ed8102",
            "applied_filters": [],
            "sample_history": [],
            "sampling_time": "2023-03-10T23:40:38.958176",
            "variable_name": "df_infer_ohe"
          }
        },
        "dx": {
          "views": [],
          "fieldMetadata": {},
          "simpleTable": true,
          "updated": 1678491158186
        }
      },
      "id": "c6e8ec99-9e8d-4ca4-8b6c-ff1895626b0b"
    },
    {
      "cell_type": "code",
      "source": [
        "df_infer_final= pd.concat([df_infer_final_ohe, num_col1], axis=1)"
      ],
      "outputs": [],
      "execution_count": null,
      "metadata": {
        "jupyter": {
          "source_hidden": false,
          "outputs_hidden": false
        },
        "noteable": {
          "cell_type": "code"
        },
        "ExecuteTime": {
          "start_time": "2023-03-10T23:40:39.130683+00:00",
          "end_time": "2023-03-10T23:40:39.315663+00:00"
        }
      },
      "id": "068634f5-f583-4fd1-8ace-42592f322e35"
    },
    {
      "cell_type": "code",
      "source": [
        "df_infer_final"
      ],
      "outputs": [
        {
          "output_type": "display_data",
          "data": {
            "application/vnd.dataresource+json": {
              "schema": {
                "fields": [
                  {
                    "name": "index",
                    "type": "integer"
                  },
                  {
                    "name": "workclass_Private",
                    "type": "integer"
                  },
                  {
                    "name": "workclass_Self-emp-not-inc",
                    "type": "integer"
                  },
                  {
                    "name": "workclass_Local-gov",
                    "type": "integer"
                  },
                  {
                    "name": "workclass_State-gov",
                    "type": "integer"
                  },
                  {
                    "name": "workclass_Self-emp-inc",
                    "type": "integer"
                  },
                  {
                    "name": "workclass_Federal-gov",
                    "type": "integer"
                  },
                  {
                    "name": "workclass_Never-worked",
                    "type": "integer"
                  },
                  {
                    "name": "workclass_Without-pay",
                    "type": "integer"
                  },
                  {
                    "name": "education_5th-6th",
                    "type": "integer"
                  },
                  {
                    "name": "education_HS-grad",
                    "type": "integer"
                  },
                  {
                    "name": "education_7th-8th",
                    "type": "integer"
                  },
                  {
                    "name": "education_10th",
                    "type": "integer"
                  },
                  {
                    "name": "education_12th",
                    "type": "integer"
                  },
                  {
                    "name": "education_11th",
                    "type": "integer"
                  },
                  {
                    "name": "education_9th",
                    "type": "integer"
                  },
                  {
                    "name": "education_1st-4th",
                    "type": "integer"
                  },
                  {
                    "name": "marital_status_Never-married",
                    "type": "integer"
                  },
                  {
                    "name": "marital_status_Married-civ-spouse",
                    "type": "integer"
                  },
                  {
                    "name": "marital_status_Married-spouse-absent",
                    "type": "integer"
                  },
                  {
                    "name": "marital_status_Divorced",
                    "type": "integer"
                  },
                  {
                    "name": "marital_status_Separated",
                    "type": "integer"
                  },
                  {
                    "name": "marital_status_Widowed",
                    "type": "integer"
                  },
                  {
                    "name": "marital_status_Married-AF-spouse",
                    "type": "integer"
                  },
                  {
                    "name": "occupation_Machine-op-inspct",
                    "type": "integer"
                  },
                  {
                    "name": "occupation_Craft-repair",
                    "type": "integer"
                  },
                  {
                    "name": "occupation_Transport-moving",
                    "type": "integer"
                  },
                  {
                    "name": "occupation_Exec-managerial",
                    "type": "integer"
                  },
                  {
                    "name": "occupation_Handlers-cleaners",
                    "type": "integer"
                  },
                  {
                    "name": "occupation_Adm-clerical",
                    "type": "integer"
                  },
                  {
                    "name": "occupation_Sales",
                    "type": "integer"
                  },
                  {
                    "name": "occupation_Other-service",
                    "type": "integer"
                  },
                  {
                    "name": "occupation_Farming-fishing",
                    "type": "integer"
                  },
                  {
                    "name": "occupation_Tech-support",
                    "type": "integer"
                  },
                  {
                    "name": "occupation_Priv-house-serv",
                    "type": "integer"
                  },
                  {
                    "name": "occupation_Prof-specialty",
                    "type": "integer"
                  },
                  {
                    "name": "occupation_Protective-serv",
                    "type": "integer"
                  },
                  {
                    "name": "occupation_?",
                    "type": "integer"
                  },
                  {
                    "name": "relationship_Unmarried",
                    "type": "integer"
                  },
                  {
                    "name": "relationship_Husband",
                    "type": "integer"
                  },
                  {
                    "name": "relationship_Not-in-family",
                    "type": "integer"
                  },
                  {
                    "name": "relationship_Own-child",
                    "type": "integer"
                  },
                  {
                    "name": "relationship_Other-relative",
                    "type": "integer"
                  },
                  {
                    "name": "relationship_Wife",
                    "type": "integer"
                  },
                  {
                    "name": "race_White",
                    "type": "integer"
                  },
                  {
                    "name": "race_Black",
                    "type": "integer"
                  },
                  {
                    "name": "race_Asian-Pac-Islander",
                    "type": "integer"
                  },
                  {
                    "name": "race_Other",
                    "type": "integer"
                  },
                  {
                    "name": "race_Amer-Indian-Eskimo",
                    "type": "integer"
                  },
                  {
                    "name": "sex_Female",
                    "type": "integer"
                  },
                  {
                    "name": "sex_Male",
                    "type": "integer"
                  },
                  {
                    "name": "age",
                    "type": "integer"
                  },
                  {
                    "name": "hours_per_week",
                    "type": "integer"
                  }
                ],
                "primaryKey": [
                  "index"
                ],
                "pandas_version": "1.4.0"
              },
              "data": [
                {
                  "index": 0,
                  "workclass_Private": 0,
                  "workclass_Self-emp-not-inc": 0,
                  "workclass_Local-gov": 0,
                  "workclass_State-gov": 0,
                  "workclass_Self-emp-inc": 0,
                  "workclass_Federal-gov": 0,
                  "workclass_Never-worked": 0,
                  "workclass_Without-pay": 0,
                  "education_5th-6th": 0,
                  "education_HS-grad": 0,
                  "education_7th-8th": 0,
                  "education_10th": 0,
                  "education_12th": 0,
                  "education_11th": 0,
                  "education_9th": 0,
                  "education_1st-4th": 0,
                  "marital_status_Never-married": 0,
                  "marital_status_Married-civ-spouse": 0,
                  "marital_status_Married-spouse-absent": 0,
                  "marital_status_Divorced": 0,
                  "marital_status_Separated": 0,
                  "marital_status_Widowed": 0,
                  "marital_status_Married-AF-spouse": 0,
                  "occupation_Machine-op-inspct": 0,
                  "occupation_Craft-repair": 0,
                  "occupation_Transport-moving": 0,
                  "occupation_Exec-managerial": 0,
                  "occupation_Handlers-cleaners": 0,
                  "occupation_Adm-clerical": 0,
                  "occupation_Sales": 0,
                  "occupation_Other-service": 0,
                  "occupation_Farming-fishing": 0,
                  "occupation_Tech-support": 0,
                  "occupation_Priv-house-serv": 0,
                  "occupation_Prof-specialty": 0,
                  "occupation_Protective-serv": 0,
                  "occupation_?": 0,
                  "relationship_Unmarried": 0,
                  "relationship_Husband": 0,
                  "relationship_Not-in-family": 0,
                  "relationship_Own-child": 0,
                  "relationship_Other-relative": 0,
                  "relationship_Wife": 0,
                  "race_White": 0,
                  "race_Black": 0,
                  "race_Asian-Pac-Islander": 0,
                  "race_Other": 0,
                  "race_Amer-Indian-Eskimo": 0,
                  "sex_Female": 0,
                  "sex_Male": 0,
                  "age": 40,
                  "hours_per_week": 99
                },
                {
                  "index": 1,
                  "workclass_Private": 0,
                  "workclass_Self-emp-not-inc": 0,
                  "workclass_Local-gov": 0,
                  "workclass_State-gov": 0,
                  "workclass_Self-emp-inc": 0,
                  "workclass_Federal-gov": 0,
                  "workclass_Never-worked": 0,
                  "workclass_Without-pay": 0,
                  "education_5th-6th": 0,
                  "education_HS-grad": 0,
                  "education_7th-8th": 0,
                  "education_10th": 0,
                  "education_12th": 0,
                  "education_11th": 0,
                  "education_9th": 0,
                  "education_1st-4th": 0,
                  "marital_status_Never-married": 0,
                  "marital_status_Married-civ-spouse": 0,
                  "marital_status_Married-spouse-absent": 0,
                  "marital_status_Divorced": 0,
                  "marital_status_Separated": 0,
                  "marital_status_Widowed": 0,
                  "marital_status_Married-AF-spouse": 0,
                  "occupation_Machine-op-inspct": 0,
                  "occupation_Craft-repair": 0,
                  "occupation_Transport-moving": 0,
                  "occupation_Exec-managerial": 0,
                  "occupation_Handlers-cleaners": 0,
                  "occupation_Adm-clerical": 0,
                  "occupation_Sales": 0,
                  "occupation_Other-service": 0,
                  "occupation_Farming-fishing": 0,
                  "occupation_Tech-support": 0,
                  "occupation_Priv-house-serv": 0,
                  "occupation_Prof-specialty": 0,
                  "occupation_Protective-serv": 0,
                  "occupation_?": 0,
                  "relationship_Unmarried": 0,
                  "relationship_Husband": 0,
                  "relationship_Not-in-family": 0,
                  "relationship_Own-child": 0,
                  "relationship_Other-relative": 0,
                  "relationship_Wife": 0,
                  "race_White": 0,
                  "race_Black": 0,
                  "race_Asian-Pac-Islander": 0,
                  "race_Other": 0,
                  "race_Amer-Indian-Eskimo": 0,
                  "sex_Female": 0,
                  "sex_Male": 0,
                  "age": 22,
                  "hours_per_week": 90
                }
              ],
              "datalink": {
                "display_id": "1d96c494-7626-472f-9dc2-77f0c49ffec0"
              }
            }
          },
          "metadata": {
            "application/vnd.dataresource+json": {
              "datalink": {
                "dataframe_info": {
                  "default_index_used": true,
                  "orig_size_bytes": 960,
                  "orig_num_rows": 2,
                  "orig_num_cols": 52,
                  "truncated_string_columns": [],
                  "truncated_size_bytes": 960,
                  "truncated_num_rows": 2,
                  "truncated_num_cols": 52
                },
                "dx_settings": {
                  "NUM_PAST_SAMPLES_TRACKED": 3,
                  "ENABLE_DATALINK": true,
                  "DISPLAY_MODE": "simple",
                  "GENERATE_DEX_METADATA": false,
                  "STRINGIFY_INDEX_VALUES": false,
                  "ALLOW_NOTEABLE_ATTRS": true,
                  "DISPLAY_MAX_COLUMNS": 100,
                  "HTML_TABLE_SCHEMA": false,
                  "SAMPLING_FACTOR": 0.1,
                  "LOG_LEVEL": 30,
                  "ENABLE_ASSIGNMENT": false,
                  "FLATTEN_INDEX_VALUES": false,
                  "DEV_MODE": false,
                  "COLUMN_SAMPLING_METHOD": "outer",
                  "FLATTEN_COLUMN_VALUES": true,
                  "DISPLAY_MAX_ROWS": 50000,
                  "ROW_SAMPLING_METHOD": "random",
                  "RANDOM_STATE": 12648430,
                  "DB_LOCATION": ":memory:",
                  "STRINGIFY_COLUMN_VALUES": true,
                  "SAMPLING_METHOD": "random",
                  "MAX_STRING_LENGTH": 50,
                  "MAX_RENDER_SIZE_BYTES": 104857600,
                  "RESET_INDEX_VALUES": false
                },
                "display_id": "1d96c494-7626-472f-9dc2-77f0c49ffec0",
                "applied_filters": [],
                "sample_history": [],
                "sampling_time": "2023-03-10T23:40:39.461214",
                "variable_name": "df_infer_final"
              },
              "display_id": "1d96c494-7626-472f-9dc2-77f0c49ffec0"
            }
          }
        }
      ],
      "execution_count": null,
      "metadata": {
        "jupyter": {
          "source_hidden": false,
          "outputs_hidden": false
        },
        "noteable": {
          "cell_type": "code"
        },
        "ExecuteTime": {
          "start_time": "2023-03-10T23:40:39.321726+00:00",
          "end_time": "2023-03-10T23:40:39.626941+00:00"
        },
        "datalink": {
          "faeae030-cf65-4be9-bd6f-abfe830e3716": {
            "dataframe_info": {
              "default_index_used": true,
              "orig_size_bytes": 960,
              "orig_num_rows": 2,
              "orig_num_cols": 52,
              "truncated_string_columns": [],
              "truncated_size_bytes": 960,
              "truncated_num_rows": 2,
              "truncated_num_cols": 52
            },
            "dx_settings": {
              "LOG_LEVEL": 30,
              "DEV_MODE": false,
              "DISPLAY_MAX_ROWS": 50000,
              "DISPLAY_MAX_COLUMNS": 100,
              "HTML_TABLE_SCHEMA": false,
              "MAX_RENDER_SIZE_BYTES": 104857600,
              "MAX_STRING_LENGTH": 50,
              "SAMPLING_FACTOR": 0.1,
              "DISPLAY_MODE": "simple",
              "SAMPLING_METHOD": "random",
              "COLUMN_SAMPLING_METHOD": "outer",
              "ROW_SAMPLING_METHOD": "random",
              "RANDOM_STATE": 12648430,
              "RESET_INDEX_VALUES": false,
              "FLATTEN_INDEX_VALUES": false,
              "FLATTEN_COLUMN_VALUES": true,
              "STRINGIFY_INDEX_VALUES": false,
              "STRINGIFY_COLUMN_VALUES": true,
              "ENABLE_DATALINK": true,
              "ENABLE_ASSIGNMENT": false,
              "NUM_PAST_SAMPLES_TRACKED": 3,
              "DB_LOCATION": ":memory:",
              "GENERATE_DEX_METADATA": false,
              "ALLOW_NOTEABLE_ATTRS": true
            },
            "display_id": "faeae030-cf65-4be9-bd6f-abfe830e3716",
            "applied_filters": [],
            "sample_history": [],
            "sampling_time": "2023-03-10T23:37:13.367574",
            "variable_name": "df_infer_final"
          },
          "1d96c494-7626-472f-9dc2-77f0c49ffec0": {
            "dataframe_info": {
              "default_index_used": true,
              "orig_size_bytes": 960,
              "orig_num_rows": 2,
              "orig_num_cols": 52,
              "truncated_string_columns": [],
              "truncated_size_bytes": 960,
              "truncated_num_rows": 2,
              "truncated_num_cols": 52
            },
            "dx_settings": {
              "LOG_LEVEL": 30,
              "DEV_MODE": false,
              "DISPLAY_MAX_ROWS": 50000,
              "DISPLAY_MAX_COLUMNS": 100,
              "HTML_TABLE_SCHEMA": false,
              "MAX_RENDER_SIZE_BYTES": 104857600,
              "MAX_STRING_LENGTH": 50,
              "SAMPLING_FACTOR": 0.1,
              "DISPLAY_MODE": "simple",
              "SAMPLING_METHOD": "random",
              "COLUMN_SAMPLING_METHOD": "outer",
              "ROW_SAMPLING_METHOD": "random",
              "RANDOM_STATE": 12648430,
              "RESET_INDEX_VALUES": false,
              "FLATTEN_INDEX_VALUES": false,
              "FLATTEN_COLUMN_VALUES": true,
              "STRINGIFY_INDEX_VALUES": false,
              "STRINGIFY_COLUMN_VALUES": true,
              "ENABLE_DATALINK": true,
              "ENABLE_ASSIGNMENT": false,
              "NUM_PAST_SAMPLES_TRACKED": 3,
              "DB_LOCATION": ":memory:",
              "GENERATE_DEX_METADATA": false,
              "ALLOW_NOTEABLE_ATTRS": true
            },
            "display_id": "1d96c494-7626-472f-9dc2-77f0c49ffec0",
            "applied_filters": [],
            "sample_history": [],
            "sampling_time": "2023-03-10T23:40:39.461214",
            "variable_name": "df_infer_final"
          }
        },
        "dx": {
          "views": [],
          "fieldMetadata": {},
          "simpleTable": true,
          "updated": 1678491435554
        }
      },
      "id": "d096f9ab-d4fa-479d-928a-065dc01edf34"
    },
    {
      "cell_type": "code",
      "source": [
        "df_infer_final.shape"
      ],
      "outputs": [
        {
          "output_type": "execute_result",
          "execution_count": 56,
          "data": {
            "text/plain": "(2, 52)"
          },
          "metadata": {}
        }
      ],
      "execution_count": null,
      "metadata": {
        "jupyter": {
          "source_hidden": false,
          "outputs_hidden": false
        },
        "noteable": {
          "cell_type": "code"
        },
        "ExecuteTime": {
          "start_time": "2023-03-10T23:40:39.635420+00:00",
          "end_time": "2023-03-10T23:40:39.819410+00:00"
        }
      },
      "id": "c1d0d602-f7e8-4182-9215-2f3a6017c269"
    },
    {
      "cell_type": "code",
      "source": [
        "minmax"
      ],
      "outputs": [
        {
          "output_type": "execute_result",
          "execution_count": 59,
          "data": {
            "text/html": "<style>#sk-container-id-1 {color: black;background-color: white;}#sk-container-id-1 pre{padding: 0;}#sk-container-id-1 div.sk-toggleable {background-color: white;}#sk-container-id-1 label.sk-toggleable__label {cursor: pointer;display: block;width: 100%;margin-bottom: 0;padding: 0.3em;box-sizing: border-box;text-align: center;}#sk-container-id-1 label.sk-toggleable__label-arrow:before {content: \"▸\";float: left;margin-right: 0.25em;color: #696969;}#sk-container-id-1 label.sk-toggleable__label-arrow:hover:before {color: black;}#sk-container-id-1 div.sk-estimator:hover label.sk-toggleable__label-arrow:before {color: black;}#sk-container-id-1 div.sk-toggleable__content {max-height: 0;max-width: 0;overflow: hidden;text-align: left;background-color: #f0f8ff;}#sk-container-id-1 div.sk-toggleable__content pre {margin: 0.2em;color: black;border-radius: 0.25em;background-color: #f0f8ff;}#sk-container-id-1 input.sk-toggleable__control:checked~div.sk-toggleable__content {max-height: 200px;max-width: 100%;overflow: auto;}#sk-container-id-1 input.sk-toggleable__control:checked~label.sk-toggleable__label-arrow:before {content: \"▾\";}#sk-container-id-1 div.sk-estimator input.sk-toggleable__control:checked~label.sk-toggleable__label {background-color: #d4ebff;}#sk-container-id-1 div.sk-label input.sk-toggleable__control:checked~label.sk-toggleable__label {background-color: #d4ebff;}#sk-container-id-1 input.sk-hidden--visually {border: 0;clip: rect(1px 1px 1px 1px);clip: rect(1px, 1px, 1px, 1px);height: 1px;margin: -1px;overflow: hidden;padding: 0;position: absolute;width: 1px;}#sk-container-id-1 div.sk-estimator {font-family: monospace;background-color: #f0f8ff;border: 1px dotted black;border-radius: 0.25em;box-sizing: border-box;margin-bottom: 0.5em;}#sk-container-id-1 div.sk-estimator:hover {background-color: #d4ebff;}#sk-container-id-1 div.sk-parallel-item::after {content: \"\";width: 100%;border-bottom: 1px solid gray;flex-grow: 1;}#sk-container-id-1 div.sk-label:hover label.sk-toggleable__label {background-color: #d4ebff;}#sk-container-id-1 div.sk-serial::before {content: \"\";position: absolute;border-left: 1px solid gray;box-sizing: border-box;top: 0;bottom: 0;left: 50%;z-index: 0;}#sk-container-id-1 div.sk-serial {display: flex;flex-direction: column;align-items: center;background-color: white;padding-right: 0.2em;padding-left: 0.2em;position: relative;}#sk-container-id-1 div.sk-item {position: relative;z-index: 1;}#sk-container-id-1 div.sk-parallel {display: flex;align-items: stretch;justify-content: center;background-color: white;position: relative;}#sk-container-id-1 div.sk-item::before, #sk-container-id-1 div.sk-parallel-item::before {content: \"\";position: absolute;border-left: 1px solid gray;box-sizing: border-box;top: 0;bottom: 0;left: 50%;z-index: -1;}#sk-container-id-1 div.sk-parallel-item {display: flex;flex-direction: column;z-index: 1;position: relative;background-color: white;}#sk-container-id-1 div.sk-parallel-item:first-child::after {align-self: flex-end;width: 50%;}#sk-container-id-1 div.sk-parallel-item:last-child::after {align-self: flex-start;width: 50%;}#sk-container-id-1 div.sk-parallel-item:only-child::after {width: 0;}#sk-container-id-1 div.sk-dashed-wrapped {border: 1px dashed gray;margin: 0 0.4em 0.5em 0.4em;box-sizing: border-box;padding-bottom: 0.4em;background-color: white;}#sk-container-id-1 div.sk-label label {font-family: monospace;font-weight: bold;display: inline-block;line-height: 1.2em;}#sk-container-id-1 div.sk-label-container {text-align: center;}#sk-container-id-1 div.sk-container {/* jupyter's `normalize.less` sets `[hidden] { display: none; }` but bootstrap.min.css set `[hidden] { display: none !important; }` so we also need the `!important` here to be able to override the default hidden behavior on the sphinx rendered scikit-learn.org. See: https://github.com/scikit-learn/scikit-learn/issues/21755 */display: inline-block !important;position: relative;}#sk-container-id-1 div.sk-text-repr-fallback {display: none;}</style><div id=\"sk-container-id-1\" class=\"sk-top-container\"><div class=\"sk-text-repr-fallback\"><pre>MinMaxScaler()</pre><b>In a Jupyter environment, please rerun this cell to show the HTML representation or trust the notebook. <br />On GitHub, the HTML representation is unable to render, please try loading this page with nbviewer.org.</b></div><div class=\"sk-container\" hidden><div class=\"sk-item\"><div class=\"sk-estimator sk-toggleable\"><input class=\"sk-toggleable__control sk-hidden--visually\" id=\"sk-estimator-id-1\" type=\"checkbox\" checked><label for=\"sk-estimator-id-1\" class=\"sk-toggleable__label sk-toggleable__label-arrow\">MinMaxScaler</label><div class=\"sk-toggleable__content\"><pre>MinMaxScaler()</pre></div></div></div></div></div>"
          },
          "metadata": {}
        }
      ],
      "execution_count": null,
      "metadata": {
        "jupyter": {
          "source_hidden": false,
          "outputs_hidden": false
        },
        "noteable": {
          "cell_type": "code"
        },
        "ExecuteTime": {
          "start_time": "2023-03-10T23:42:35.655598+00:00",
          "end_time": "2023-03-10T23:42:35.813979+00:00"
        }
      },
      "id": "560c1ba8-0b1f-4ffa-9cc0-5ea50c2da0bb"
    },
    {
      "cell_type": "code",
      "source": [
        "df_infer_final_fix = minmax.transform(df_infer_final)"
      ],
      "outputs": [
        {
          "output_type": "error",
          "ename": "ValueError",
          "evalue": "X has 52 features, but MinMaxScaler is expecting 2 features as input.",
          "traceback": [
            "\u001b[0;31m---------------------------------------------------------------------------\u001b[0m",
            "\u001b[0;31mValueError\u001b[0m                                Traceback (most recent call last)",
            "Cell \u001b[0;32mIn[66], line 1\u001b[0m\n\u001b[0;32m----> 1\u001b[0m df_infer_final_fix \u001b[38;5;241m=\u001b[39m \u001b[43mminmax\u001b[49m\u001b[38;5;241;43m.\u001b[39;49m\u001b[43mtransform\u001b[49m\u001b[43m(\u001b[49m\u001b[43mdf_infer_final\u001b[49m\u001b[43m)\u001b[49m\n",
            "File \u001b[0;32m/opt/conda/lib/python3.9/site-packages/sklearn/preprocessing/_data.py:499\u001b[0m, in \u001b[0;36mMinMaxScaler.transform\u001b[0;34m(self, X)\u001b[0m\n\u001b[1;32m    485\u001b[0m \u001b[38;5;250m\u001b[39m\u001b[38;5;124;03m\"\"\"Scale features of X according to feature_range.\u001b[39;00m\n\u001b[1;32m    486\u001b[0m \n\u001b[1;32m    487\u001b[0m \u001b[38;5;124;03mParameters\u001b[39;00m\n\u001b[0;32m   (...)\u001b[0m\n\u001b[1;32m    495\u001b[0m \u001b[38;5;124;03m    Transformed data.\u001b[39;00m\n\u001b[1;32m    496\u001b[0m \u001b[38;5;124;03m\"\"\"\u001b[39;00m\n\u001b[1;32m    497\u001b[0m check_is_fitted(\u001b[38;5;28mself\u001b[39m)\n\u001b[0;32m--> 499\u001b[0m X \u001b[38;5;241m=\u001b[39m \u001b[38;5;28;43mself\u001b[39;49m\u001b[38;5;241;43m.\u001b[39;49m\u001b[43m_validate_data\u001b[49m\u001b[43m(\u001b[49m\n\u001b[1;32m    500\u001b[0m \u001b[43m    \u001b[49m\u001b[43mX\u001b[49m\u001b[43m,\u001b[49m\n\u001b[1;32m    501\u001b[0m \u001b[43m    \u001b[49m\u001b[43mcopy\u001b[49m\u001b[38;5;241;43m=\u001b[39;49m\u001b[38;5;28;43mself\u001b[39;49m\u001b[38;5;241;43m.\u001b[39;49m\u001b[43mcopy\u001b[49m\u001b[43m,\u001b[49m\n\u001b[1;32m    502\u001b[0m \u001b[43m    \u001b[49m\u001b[43mdtype\u001b[49m\u001b[38;5;241;43m=\u001b[39;49m\u001b[43mFLOAT_DTYPES\u001b[49m\u001b[43m,\u001b[49m\n\u001b[1;32m    503\u001b[0m \u001b[43m    \u001b[49m\u001b[43mforce_all_finite\u001b[49m\u001b[38;5;241;43m=\u001b[39;49m\u001b[38;5;124;43m\"\u001b[39;49m\u001b[38;5;124;43mallow-nan\u001b[39;49m\u001b[38;5;124;43m\"\u001b[39;49m\u001b[43m,\u001b[49m\n\u001b[1;32m    504\u001b[0m \u001b[43m    \u001b[49m\u001b[43mreset\u001b[49m\u001b[38;5;241;43m=\u001b[39;49m\u001b[38;5;28;43;01mFalse\u001b[39;49;00m\u001b[43m,\u001b[49m\n\u001b[1;32m    505\u001b[0m \u001b[43m\u001b[49m\u001b[43m)\u001b[49m\n\u001b[1;32m    507\u001b[0m X \u001b[38;5;241m*\u001b[39m\u001b[38;5;241m=\u001b[39m \u001b[38;5;28mself\u001b[39m\u001b[38;5;241m.\u001b[39mscale_\n\u001b[1;32m    508\u001b[0m X \u001b[38;5;241m+\u001b[39m\u001b[38;5;241m=\u001b[39m \u001b[38;5;28mself\u001b[39m\u001b[38;5;241m.\u001b[39mmin_\n",
            "File \u001b[0;32m/opt/conda/lib/python3.9/site-packages/sklearn/base.py:600\u001b[0m, in \u001b[0;36mBaseEstimator._validate_data\u001b[0;34m(self, X, y, reset, validate_separately, **check_params)\u001b[0m\n\u001b[1;32m    597\u001b[0m     out \u001b[38;5;241m=\u001b[39m X, y\n\u001b[1;32m    599\u001b[0m \u001b[38;5;28;01mif\u001b[39;00m \u001b[38;5;129;01mnot\u001b[39;00m no_val_X \u001b[38;5;129;01mand\u001b[39;00m check_params\u001b[38;5;241m.\u001b[39mget(\u001b[38;5;124m\"\u001b[39m\u001b[38;5;124mensure_2d\u001b[39m\u001b[38;5;124m\"\u001b[39m, \u001b[38;5;28;01mTrue\u001b[39;00m):\n\u001b[0;32m--> 600\u001b[0m     \u001b[38;5;28;43mself\u001b[39;49m\u001b[38;5;241;43m.\u001b[39;49m\u001b[43m_check_n_features\u001b[49m\u001b[43m(\u001b[49m\u001b[43mX\u001b[49m\u001b[43m,\u001b[49m\u001b[43m \u001b[49m\u001b[43mreset\u001b[49m\u001b[38;5;241;43m=\u001b[39;49m\u001b[43mreset\u001b[49m\u001b[43m)\u001b[49m\n\u001b[1;32m    602\u001b[0m \u001b[38;5;28;01mreturn\u001b[39;00m out\n",
            "File \u001b[0;32m/opt/conda/lib/python3.9/site-packages/sklearn/base.py:400\u001b[0m, in \u001b[0;36mBaseEstimator._check_n_features\u001b[0;34m(self, X, reset)\u001b[0m\n\u001b[1;32m    397\u001b[0m     \u001b[38;5;28;01mreturn\u001b[39;00m\n\u001b[1;32m    399\u001b[0m \u001b[38;5;28;01mif\u001b[39;00m n_features \u001b[38;5;241m!=\u001b[39m \u001b[38;5;28mself\u001b[39m\u001b[38;5;241m.\u001b[39mn_features_in_:\n\u001b[0;32m--> 400\u001b[0m     \u001b[38;5;28;01mraise\u001b[39;00m \u001b[38;5;167;01mValueError\u001b[39;00m(\n\u001b[1;32m    401\u001b[0m         \u001b[38;5;124mf\u001b[39m\u001b[38;5;124m\"\u001b[39m\u001b[38;5;124mX has \u001b[39m\u001b[38;5;132;01m{\u001b[39;00mn_features\u001b[38;5;132;01m}\u001b[39;00m\u001b[38;5;124m features, but \u001b[39m\u001b[38;5;132;01m{\u001b[39;00m\u001b[38;5;28mself\u001b[39m\u001b[38;5;241m.\u001b[39m\u001b[38;5;18m__class__\u001b[39m\u001b[38;5;241m.\u001b[39m\u001b[38;5;18m__name__\u001b[39m\u001b[38;5;132;01m}\u001b[39;00m\u001b[38;5;124m \u001b[39m\u001b[38;5;124m\"\u001b[39m\n\u001b[1;32m    402\u001b[0m         \u001b[38;5;124mf\u001b[39m\u001b[38;5;124m\"\u001b[39m\u001b[38;5;124mis expecting \u001b[39m\u001b[38;5;132;01m{\u001b[39;00m\u001b[38;5;28mself\u001b[39m\u001b[38;5;241m.\u001b[39mn_features_in_\u001b[38;5;132;01m}\u001b[39;00m\u001b[38;5;124m features as input.\u001b[39m\u001b[38;5;124m\"\u001b[39m\n\u001b[1;32m    403\u001b[0m     )\n",
            "\u001b[0;31mValueError\u001b[0m: X has 52 features, but MinMaxScaler is expecting 2 features as input."
          ]
        }
      ],
      "execution_count": null,
      "metadata": {
        "jupyter": {
          "source_hidden": false,
          "outputs_hidden": true
        },
        "noteable": {
          "cell_type": "code"
        },
        "ExecuteTime": {
          "start_time": "2023-03-10T23:48:18.964310+00:00",
          "end_time": "2023-03-10T23:48:19.163097+00:00"
        }
      },
      "id": "178741a5-b69a-4291-aebe-c394d336ae2a"
    },
    {
      "cell_type": "code",
      "source": [
        "prediction = model_linreg.predict(df_infer_final)"
      ],
      "outputs": [],
      "execution_count": null,
      "metadata": {
        "jupyter": {
          "source_hidden": false,
          "outputs_hidden": false
        },
        "noteable": {
          "cell_type": "code"
        },
        "ExecuteTime": {
          "start_time": "2023-03-10T23:48:36.975749+00:00",
          "end_time": "2023-03-10T23:48:37.133999+00:00"
        }
      },
      "id": "c8e9e746-bb87-4a6e-b6cf-70498f68cb7d"
    },
    {
      "cell_type": "code",
      "source": [
        "prediction_df = pd.DataFrame(prediction, columns=['Rating - Prediction'])\n",
        "prediction_df"
      ],
      "outputs": [
        {
          "output_type": "display_data",
          "data": {
            "application/vnd.dataresource+json": {
              "schema": {
                "fields": [
                  {
                    "name": "index",
                    "type": "integer"
                  },
                  {
                    "name": "Rating - Prediction",
                    "type": "string"
                  }
                ],
                "primaryKey": [
                  "index"
                ],
                "pandas_version": "1.4.0"
              },
              "data": [
                {
                  "index": 0,
                  "Rating - Prediction": ">50K"
                },
                {
                  "index": 1,
                  "Rating - Prediction": ">50K"
                }
              ],
              "datalink": {
                "display_id": "9c142ca9-a5b7-46b4-a7c5-fb8ce3740750"
              }
            }
          },
          "metadata": {
            "application/vnd.dataresource+json": {
              "datalink": {
                "dataframe_info": {
                  "default_index_used": true,
                  "orig_size_bytes": 144,
                  "orig_num_rows": 2,
                  "orig_num_cols": 1,
                  "truncated_string_columns": [],
                  "truncated_size_bytes": 144,
                  "truncated_num_rows": 2,
                  "truncated_num_cols": 1
                },
                "dx_settings": {
                  "NUM_PAST_SAMPLES_TRACKED": 3,
                  "ENABLE_DATALINK": true,
                  "DISPLAY_MODE": "simple",
                  "GENERATE_DEX_METADATA": false,
                  "STRINGIFY_INDEX_VALUES": false,
                  "ALLOW_NOTEABLE_ATTRS": true,
                  "DISPLAY_MAX_COLUMNS": 100,
                  "HTML_TABLE_SCHEMA": false,
                  "SAMPLING_FACTOR": 0.1,
                  "LOG_LEVEL": 30,
                  "ENABLE_ASSIGNMENT": false,
                  "FLATTEN_INDEX_VALUES": false,
                  "DEV_MODE": false,
                  "COLUMN_SAMPLING_METHOD": "outer",
                  "FLATTEN_COLUMN_VALUES": true,
                  "DISPLAY_MAX_ROWS": 50000,
                  "ROW_SAMPLING_METHOD": "random",
                  "RANDOM_STATE": 12648430,
                  "DB_LOCATION": ":memory:",
                  "STRINGIFY_COLUMN_VALUES": true,
                  "SAMPLING_METHOD": "random",
                  "MAX_STRING_LENGTH": 50,
                  "MAX_RENDER_SIZE_BYTES": 104857600,
                  "RESET_INDEX_VALUES": false
                },
                "display_id": "9c142ca9-a5b7-46b4-a7c5-fb8ce3740750",
                "applied_filters": [],
                "sample_history": [],
                "sampling_time": "2023-03-10T23:48:36.019572",
                "variable_name": "prediction_df"
              },
              "display_id": "9c142ca9-a5b7-46b4-a7c5-fb8ce3740750"
            }
          }
        }
      ],
      "execution_count": null,
      "metadata": {
        "jupyter": {
          "source_hidden": false,
          "outputs_hidden": false
        },
        "noteable": {
          "cell_type": "code"
        },
        "ExecuteTime": {
          "start_time": "2023-03-10T23:48:35.996069+00:00",
          "end_time": "2023-03-10T23:48:36.177325+00:00"
        },
        "datalink": {
          "33c011f5-b5d1-431d-8131-85f7e416f961": {
            "dataframe_info": {
              "default_index_used": true,
              "orig_size_bytes": 144,
              "orig_num_rows": 2,
              "orig_num_cols": 1,
              "truncated_string_columns": [],
              "truncated_size_bytes": 144,
              "truncated_num_rows": 2,
              "truncated_num_cols": 1
            },
            "dx_settings": {
              "LOG_LEVEL": 30,
              "DEV_MODE": false,
              "DISPLAY_MAX_ROWS": 50000,
              "DISPLAY_MAX_COLUMNS": 100,
              "HTML_TABLE_SCHEMA": false,
              "MAX_RENDER_SIZE_BYTES": 104857600,
              "MAX_STRING_LENGTH": 50,
              "SAMPLING_FACTOR": 0.1,
              "DISPLAY_MODE": "simple",
              "SAMPLING_METHOD": "random",
              "COLUMN_SAMPLING_METHOD": "outer",
              "ROW_SAMPLING_METHOD": "random",
              "RANDOM_STATE": 12648430,
              "RESET_INDEX_VALUES": false,
              "FLATTEN_INDEX_VALUES": false,
              "FLATTEN_COLUMN_VALUES": true,
              "STRINGIFY_INDEX_VALUES": false,
              "STRINGIFY_COLUMN_VALUES": true,
              "ENABLE_DATALINK": true,
              "ENABLE_ASSIGNMENT": false,
              "NUM_PAST_SAMPLES_TRACKED": 3,
              "DB_LOCATION": ":memory:",
              "GENERATE_DEX_METADATA": false,
              "ALLOW_NOTEABLE_ATTRS": true
            },
            "display_id": "33c011f5-b5d1-431d-8131-85f7e416f961",
            "applied_filters": [],
            "sample_history": [],
            "sampling_time": "2023-03-10T23:36:02.865776",
            "variable_name": "prediction_df"
          },
          "9c142ca9-a5b7-46b4-a7c5-fb8ce3740750": {
            "dataframe_info": {
              "default_index_used": true,
              "orig_size_bytes": 144,
              "orig_num_rows": 2,
              "orig_num_cols": 1,
              "truncated_string_columns": [],
              "truncated_size_bytes": 144,
              "truncated_num_rows": 2,
              "truncated_num_cols": 1
            },
            "dx_settings": {
              "LOG_LEVEL": 30,
              "DEV_MODE": false,
              "DISPLAY_MAX_ROWS": 50000,
              "DISPLAY_MAX_COLUMNS": 100,
              "HTML_TABLE_SCHEMA": false,
              "MAX_RENDER_SIZE_BYTES": 104857600,
              "MAX_STRING_LENGTH": 50,
              "SAMPLING_FACTOR": 0.1,
              "DISPLAY_MODE": "simple",
              "SAMPLING_METHOD": "random",
              "COLUMN_SAMPLING_METHOD": "outer",
              "ROW_SAMPLING_METHOD": "random",
              "RANDOM_STATE": 12648430,
              "RESET_INDEX_VALUES": false,
              "FLATTEN_INDEX_VALUES": false,
              "FLATTEN_COLUMN_VALUES": true,
              "STRINGIFY_INDEX_VALUES": false,
              "STRINGIFY_COLUMN_VALUES": true,
              "ENABLE_DATALINK": true,
              "ENABLE_ASSIGNMENT": false,
              "NUM_PAST_SAMPLES_TRACKED": 3,
              "DB_LOCATION": ":memory:",
              "GENERATE_DEX_METADATA": false,
              "ALLOW_NOTEABLE_ATTRS": true
            },
            "display_id": "9c142ca9-a5b7-46b4-a7c5-fb8ce3740750",
            "applied_filters": [],
            "sample_history": [],
            "sampling_time": "2023-03-10T23:48:36.019572",
            "variable_name": "prediction_df"
          }
        },
        "dx": {
          "views": [],
          "fieldMetadata": {},
          "simpleTable": true,
          "updated": 1678491468346
        }
      },
      "id": "3f0aa427-5863-4d36-aafd-97ec970e1d2d"
    },
    {
      "cell_type": "code",
      "source": [],
      "outputs": [],
      "execution_count": null,
      "metadata": {
        "jupyter": {
          "source_hidden": false,
          "outputs_hidden": false
        },
        "noteable": {
          "cell_type": "code"
        }
      },
      "id": "4800f9d9-f5d8-41c7-bd1b-ac5a94408f58"
    }
  ],
  "metadata": {
    "selected_hardware_size": "small",
    "noteable": {
      "last_transaction_id": "2dffe125-427f-45c4-9753-3c325e61eca1",
      "last_delta_id": "163edaef-9277-453a-b9c1-e715c914400c"
    },
    "nteract": {
      "version": "noteable@2.9.0"
    }
  },
  "nbformat": 4,
  "nbformat_minor": 5
}